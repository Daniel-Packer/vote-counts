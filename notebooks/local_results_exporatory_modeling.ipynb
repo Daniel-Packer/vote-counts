{
 "cells": [
  {
   "cell_type": "code",
   "execution_count": 1,
   "metadata": {},
   "outputs": [
    {
     "name": "stdout",
     "output_type": "stream",
     "text": [
      "/cis/home/dpacker/my_documents/vote-counts/src\n",
      "/cis/home/dpacker/my_documents/vote-counts\n"
     ]
    }
   ],
   "source": [
    "%load_ext autoreload\n",
    "%autoreload 2\n",
    "%cd ..\n",
    "%cd .."
   ]
  },
  {
   "cell_type": "code",
   "execution_count": 18,
   "metadata": {},
   "outputs": [],
   "source": [
    "import pandas as pd\n",
    "from pathlib import Path\n",
    "import numpyro\n",
    "from numpyro import distributions as dist\n",
    "from numpyro.infer import NUTS, MCMC, Predictive\n",
    "from jax import random, numpy as jnp\n",
    "import matplotlib.pyplot as plt\n",
    "import seaborn as sns\n",
    "import os\n",
    "from numpyro.contrib.funsor import config_enumerate, infer_discrete\n",
    "\n",
    "os.environ['CUDA_VISIBLE_DEVICES'] = '3'\n",
    "\n",
    "path_data = Path(\"data\")\n",
    "path_raw_data = path_data / \"raw_data\""
   ]
  },
  {
   "cell_type": "code",
   "execution_count": 3,
   "metadata": {},
   "outputs": [
    {
     "name": "stderr",
     "output_type": "stream",
     "text": [
      "/tmp/ipykernel_562470/2543796059.py:1: DtypeWarning: Columns (2,3,11) have mixed types. Specify dtype option on import or set low_memory=False.\n",
      "  data = pd.read_csv(path_raw_data / \"LOCAL_precinct_general.csv\")\n"
     ]
    }
   ],
   "source": [
    "data = pd.read_csv(path_raw_data / \"LOCAL_precinct_general.csv\")"
   ]
  },
  {
   "cell_type": "code",
   "execution_count": 4,
   "metadata": {},
   "outputs": [
    {
     "data": {
      "text/html": [
       "<div>\n",
       "<style scoped>\n",
       "    .dataframe tbody tr th:only-of-type {\n",
       "        vertical-align: middle;\n",
       "    }\n",
       "\n",
       "    .dataframe tbody tr th {\n",
       "        vertical-align: top;\n",
       "    }\n",
       "\n",
       "    .dataframe thead th {\n",
       "        text-align: right;\n",
       "    }\n",
       "</style>\n",
       "<table border=\"1\" class=\"dataframe\">\n",
       "  <thead>\n",
       "    <tr style=\"text-align: right;\">\n",
       "      <th></th>\n",
       "      <th></th>\n",
       "      <th></th>\n",
       "      <th>votes</th>\n",
       "      <th>county_fips</th>\n",
       "      <th>jurisdiction_fips</th>\n",
       "      <th>magnitude</th>\n",
       "      <th>year</th>\n",
       "      <th>special</th>\n",
       "      <th>writein</th>\n",
       "      <th>state_fips</th>\n",
       "      <th>state_cen</th>\n",
       "      <th>state_ic</th>\n",
       "      <th>readme_check</th>\n",
       "    </tr>\n",
       "    <tr>\n",
       "      <th>precinct</th>\n",
       "      <th>office</th>\n",
       "      <th>candidate</th>\n",
       "      <th></th>\n",
       "      <th></th>\n",
       "      <th></th>\n",
       "      <th></th>\n",
       "      <th></th>\n",
       "      <th></th>\n",
       "      <th></th>\n",
       "      <th></th>\n",
       "      <th></th>\n",
       "      <th></th>\n",
       "      <th></th>\n",
       "    </tr>\n",
       "  </thead>\n",
       "  <tbody>\n",
       "    <tr>\n",
       "      <th rowspan=\"5\" valign=\"top\"># AB - CENTRAL ABSENTEE PRECINCT</th>\n",
       "      <th rowspan=\"4\" valign=\"top\">CHAIRMAN - SCHOOL BOARD</th>\n",
       "      <th>ALYSON SATTERWHITE</th>\n",
       "      <td>9283</td>\n",
       "      <td>51153</td>\n",
       "      <td>51153</td>\n",
       "      <td>1.0</td>\n",
       "      <td>2018</td>\n",
       "      <td>0</td>\n",
       "      <td>0</td>\n",
       "      <td>51</td>\n",
       "      <td>54</td>\n",
       "      <td>40</td>\n",
       "      <td>0</td>\n",
       "    </tr>\n",
       "    <tr>\n",
       "      <th>BABUR LATEEF</th>\n",
       "      <td>9963</td>\n",
       "      <td>51153</td>\n",
       "      <td>51153</td>\n",
       "      <td>1.0</td>\n",
       "      <td>2018</td>\n",
       "      <td>0</td>\n",
       "      <td>0</td>\n",
       "      <td>51</td>\n",
       "      <td>54</td>\n",
       "      <td>40</td>\n",
       "      <td>0</td>\n",
       "    </tr>\n",
       "    <tr>\n",
       "      <th>STANLEY BENDER</th>\n",
       "      <td>2178</td>\n",
       "      <td>51153</td>\n",
       "      <td>51153</td>\n",
       "      <td>1.0</td>\n",
       "      <td>2018</td>\n",
       "      <td>0</td>\n",
       "      <td>0</td>\n",
       "      <td>51</td>\n",
       "      <td>54</td>\n",
       "      <td>40</td>\n",
       "      <td>0</td>\n",
       "    </tr>\n",
       "    <tr>\n",
       "      <th>WRITEIN</th>\n",
       "      <td>243</td>\n",
       "      <td>51153</td>\n",
       "      <td>51153</td>\n",
       "      <td>1.0</td>\n",
       "      <td>2018</td>\n",
       "      <td>0</td>\n",
       "      <td>1</td>\n",
       "      <td>51</td>\n",
       "      <td>54</td>\n",
       "      <td>40</td>\n",
       "      <td>0</td>\n",
       "    </tr>\n",
       "    <tr>\n",
       "      <th>CLERK OF COURT</th>\n",
       "      <th>CHERYL EDMONDSTON</th>\n",
       "      <td>94</td>\n",
       "      <td>51029</td>\n",
       "      <td>51029</td>\n",
       "      <td>1.0</td>\n",
       "      <td>2018</td>\n",
       "      <td>0</td>\n",
       "      <td>0</td>\n",
       "      <td>51</td>\n",
       "      <td>54</td>\n",
       "      <td>40</td>\n",
       "      <td>0</td>\n",
       "    </tr>\n",
       "    <tr>\n",
       "      <th>...</th>\n",
       "      <th>...</th>\n",
       "      <th>...</th>\n",
       "      <td>...</td>\n",
       "      <td>...</td>\n",
       "      <td>...</td>\n",
       "      <td>...</td>\n",
       "      <td>...</td>\n",
       "      <td>...</td>\n",
       "      <td>...</td>\n",
       "      <td>...</td>\n",
       "      <td>...</td>\n",
       "      <td>...</td>\n",
       "      <td>...</td>\n",
       "    </tr>\n",
       "    <tr>\n",
       "      <th rowspan=\"5\" valign=\"top\">ZUMBROTA TWP.</th>\n",
       "      <th rowspan=\"2\" valign=\"top\">COUNTY SHERIFF</th>\n",
       "      <th>PAUL GIELAU</th>\n",
       "      <td>157</td>\n",
       "      <td>27049</td>\n",
       "      <td>27049</td>\n",
       "      <td>1.0</td>\n",
       "      <td>2018</td>\n",
       "      <td>0</td>\n",
       "      <td>0</td>\n",
       "      <td>27</td>\n",
       "      <td>41</td>\n",
       "      <td>33</td>\n",
       "      <td>0</td>\n",
       "    </tr>\n",
       "    <tr>\n",
       "      <th>WRITEIN</th>\n",
       "      <td>0</td>\n",
       "      <td>27049</td>\n",
       "      <td>27049</td>\n",
       "      <td>1.0</td>\n",
       "      <td>2018</td>\n",
       "      <td>0</td>\n",
       "      <td>1</td>\n",
       "      <td>27</td>\n",
       "      <td>41</td>\n",
       "      <td>33</td>\n",
       "      <td>0</td>\n",
       "    </tr>\n",
       "    <tr>\n",
       "      <th rowspan=\"3\" valign=\"top\">SOIL AND WATER SUPERVISOR</th>\n",
       "      <th>DONALD SCHLIEP</th>\n",
       "      <td>281</td>\n",
       "      <td>27049</td>\n",
       "      <td>27049</td>\n",
       "      <td>1.0</td>\n",
       "      <td>2018</td>\n",
       "      <td>0</td>\n",
       "      <td>0</td>\n",
       "      <td>27</td>\n",
       "      <td>41</td>\n",
       "      <td>33</td>\n",
       "      <td>0</td>\n",
       "    </tr>\n",
       "    <tr>\n",
       "      <th>MARK COMSTOCK</th>\n",
       "      <td>274</td>\n",
       "      <td>27049</td>\n",
       "      <td>27049</td>\n",
       "      <td>1.0</td>\n",
       "      <td>2018</td>\n",
       "      <td>0</td>\n",
       "      <td>0</td>\n",
       "      <td>27</td>\n",
       "      <td>41</td>\n",
       "      <td>33</td>\n",
       "      <td>0</td>\n",
       "    </tr>\n",
       "    <tr>\n",
       "      <th>WRITEIN</th>\n",
       "      <td>4</td>\n",
       "      <td>54098</td>\n",
       "      <td>54098</td>\n",
       "      <td>2.0</td>\n",
       "      <td>4036</td>\n",
       "      <td>0</td>\n",
       "      <td>2</td>\n",
       "      <td>54</td>\n",
       "      <td>82</td>\n",
       "      <td>66</td>\n",
       "      <td>0</td>\n",
       "    </tr>\n",
       "  </tbody>\n",
       "</table>\n",
       "<p>1253424 rows × 11 columns</p>\n",
       "</div>"
      ],
      "text/plain": [
       "                                                                               votes  \\\n",
       "precinct                         office                    candidate                   \n",
       "# AB - CENTRAL ABSENTEE PRECINCT CHAIRMAN - SCHOOL BOARD   ALYSON SATTERWHITE   9283   \n",
       "                                                           BABUR LATEEF         9963   \n",
       "                                                           STANLEY BENDER       2178   \n",
       "                                                           WRITEIN               243   \n",
       "                                 CLERK OF COURT            CHERYL EDMONDSTON      94   \n",
       "...                                                                              ...   \n",
       "ZUMBROTA TWP.                    COUNTY SHERIFF            PAUL GIELAU           157   \n",
       "                                                           WRITEIN                 0   \n",
       "                                 SOIL AND WATER SUPERVISOR DONALD SCHLIEP        281   \n",
       "                                                           MARK COMSTOCK         274   \n",
       "                                                           WRITEIN                 4   \n",
       "\n",
       "                                                                               county_fips  \\\n",
       "precinct                         office                    candidate                         \n",
       "# AB - CENTRAL ABSENTEE PRECINCT CHAIRMAN - SCHOOL BOARD   ALYSON SATTERWHITE        51153   \n",
       "                                                           BABUR LATEEF              51153   \n",
       "                                                           STANLEY BENDER            51153   \n",
       "                                                           WRITEIN                   51153   \n",
       "                                 CLERK OF COURT            CHERYL EDMONDSTON         51029   \n",
       "...                                                                                    ...   \n",
       "ZUMBROTA TWP.                    COUNTY SHERIFF            PAUL GIELAU               27049   \n",
       "                                                           WRITEIN                   27049   \n",
       "                                 SOIL AND WATER SUPERVISOR DONALD SCHLIEP            27049   \n",
       "                                                           MARK COMSTOCK             27049   \n",
       "                                                           WRITEIN                   54098   \n",
       "\n",
       "                                                                               jurisdiction_fips  \\\n",
       "precinct                         office                    candidate                               \n",
       "# AB - CENTRAL ABSENTEE PRECINCT CHAIRMAN - SCHOOL BOARD   ALYSON SATTERWHITE              51153   \n",
       "                                                           BABUR LATEEF                    51153   \n",
       "                                                           STANLEY BENDER                  51153   \n",
       "                                                           WRITEIN                         51153   \n",
       "                                 CLERK OF COURT            CHERYL EDMONDSTON               51029   \n",
       "...                                                                                          ...   \n",
       "ZUMBROTA TWP.                    COUNTY SHERIFF            PAUL GIELAU                     27049   \n",
       "                                                           WRITEIN                         27049   \n",
       "                                 SOIL AND WATER SUPERVISOR DONALD SCHLIEP                  27049   \n",
       "                                                           MARK COMSTOCK                   27049   \n",
       "                                                           WRITEIN                         54098   \n",
       "\n",
       "                                                                               magnitude  \\\n",
       "precinct                         office                    candidate                       \n",
       "# AB - CENTRAL ABSENTEE PRECINCT CHAIRMAN - SCHOOL BOARD   ALYSON SATTERWHITE        1.0   \n",
       "                                                           BABUR LATEEF              1.0   \n",
       "                                                           STANLEY BENDER            1.0   \n",
       "                                                           WRITEIN                   1.0   \n",
       "                                 CLERK OF COURT            CHERYL EDMONDSTON         1.0   \n",
       "...                                                                                  ...   \n",
       "ZUMBROTA TWP.                    COUNTY SHERIFF            PAUL GIELAU               1.0   \n",
       "                                                           WRITEIN                   1.0   \n",
       "                                 SOIL AND WATER SUPERVISOR DONALD SCHLIEP            1.0   \n",
       "                                                           MARK COMSTOCK             1.0   \n",
       "                                                           WRITEIN                   2.0   \n",
       "\n",
       "                                                                               year  \\\n",
       "precinct                         office                    candidate                  \n",
       "# AB - CENTRAL ABSENTEE PRECINCT CHAIRMAN - SCHOOL BOARD   ALYSON SATTERWHITE  2018   \n",
       "                                                           BABUR LATEEF        2018   \n",
       "                                                           STANLEY BENDER      2018   \n",
       "                                                           WRITEIN             2018   \n",
       "                                 CLERK OF COURT            CHERYL EDMONDSTON   2018   \n",
       "...                                                                             ...   \n",
       "ZUMBROTA TWP.                    COUNTY SHERIFF            PAUL GIELAU         2018   \n",
       "                                                           WRITEIN             2018   \n",
       "                                 SOIL AND WATER SUPERVISOR DONALD SCHLIEP      2018   \n",
       "                                                           MARK COMSTOCK       2018   \n",
       "                                                           WRITEIN             4036   \n",
       "\n",
       "                                                                               special  \\\n",
       "precinct                         office                    candidate                     \n",
       "# AB - CENTRAL ABSENTEE PRECINCT CHAIRMAN - SCHOOL BOARD   ALYSON SATTERWHITE        0   \n",
       "                                                           BABUR LATEEF              0   \n",
       "                                                           STANLEY BENDER            0   \n",
       "                                                           WRITEIN                   0   \n",
       "                                 CLERK OF COURT            CHERYL EDMONDSTON         0   \n",
       "...                                                                                ...   \n",
       "ZUMBROTA TWP.                    COUNTY SHERIFF            PAUL GIELAU               0   \n",
       "                                                           WRITEIN                   0   \n",
       "                                 SOIL AND WATER SUPERVISOR DONALD SCHLIEP            0   \n",
       "                                                           MARK COMSTOCK             0   \n",
       "                                                           WRITEIN                   0   \n",
       "\n",
       "                                                                               writein  \\\n",
       "precinct                         office                    candidate                     \n",
       "# AB - CENTRAL ABSENTEE PRECINCT CHAIRMAN - SCHOOL BOARD   ALYSON SATTERWHITE        0   \n",
       "                                                           BABUR LATEEF              0   \n",
       "                                                           STANLEY BENDER            0   \n",
       "                                                           WRITEIN                   1   \n",
       "                                 CLERK OF COURT            CHERYL EDMONDSTON         0   \n",
       "...                                                                                ...   \n",
       "ZUMBROTA TWP.                    COUNTY SHERIFF            PAUL GIELAU               0   \n",
       "                                                           WRITEIN                   1   \n",
       "                                 SOIL AND WATER SUPERVISOR DONALD SCHLIEP            0   \n",
       "                                                           MARK COMSTOCK             0   \n",
       "                                                           WRITEIN                   2   \n",
       "\n",
       "                                                                               state_fips  \\\n",
       "precinct                         office                    candidate                        \n",
       "# AB - CENTRAL ABSENTEE PRECINCT CHAIRMAN - SCHOOL BOARD   ALYSON SATTERWHITE          51   \n",
       "                                                           BABUR LATEEF                51   \n",
       "                                                           STANLEY BENDER              51   \n",
       "                                                           WRITEIN                     51   \n",
       "                                 CLERK OF COURT            CHERYL EDMONDSTON           51   \n",
       "...                                                                                   ...   \n",
       "ZUMBROTA TWP.                    COUNTY SHERIFF            PAUL GIELAU                 27   \n",
       "                                                           WRITEIN                     27   \n",
       "                                 SOIL AND WATER SUPERVISOR DONALD SCHLIEP              27   \n",
       "                                                           MARK COMSTOCK               27   \n",
       "                                                           WRITEIN                     54   \n",
       "\n",
       "                                                                               state_cen  \\\n",
       "precinct                         office                    candidate                       \n",
       "# AB - CENTRAL ABSENTEE PRECINCT CHAIRMAN - SCHOOL BOARD   ALYSON SATTERWHITE         54   \n",
       "                                                           BABUR LATEEF               54   \n",
       "                                                           STANLEY BENDER             54   \n",
       "                                                           WRITEIN                    54   \n",
       "                                 CLERK OF COURT            CHERYL EDMONDSTON          54   \n",
       "...                                                                                  ...   \n",
       "ZUMBROTA TWP.                    COUNTY SHERIFF            PAUL GIELAU                41   \n",
       "                                                           WRITEIN                    41   \n",
       "                                 SOIL AND WATER SUPERVISOR DONALD SCHLIEP             41   \n",
       "                                                           MARK COMSTOCK              41   \n",
       "                                                           WRITEIN                    82   \n",
       "\n",
       "                                                                               state_ic  \\\n",
       "precinct                         office                    candidate                      \n",
       "# AB - CENTRAL ABSENTEE PRECINCT CHAIRMAN - SCHOOL BOARD   ALYSON SATTERWHITE        40   \n",
       "                                                           BABUR LATEEF              40   \n",
       "                                                           STANLEY BENDER            40   \n",
       "                                                           WRITEIN                   40   \n",
       "                                 CLERK OF COURT            CHERYL EDMONDSTON         40   \n",
       "...                                                                                 ...   \n",
       "ZUMBROTA TWP.                    COUNTY SHERIFF            PAUL GIELAU               33   \n",
       "                                                           WRITEIN                   33   \n",
       "                                 SOIL AND WATER SUPERVISOR DONALD SCHLIEP            33   \n",
       "                                                           MARK COMSTOCK             33   \n",
       "                                                           WRITEIN                   66   \n",
       "\n",
       "                                                                               readme_check  \n",
       "precinct                         office                    candidate                         \n",
       "# AB - CENTRAL ABSENTEE PRECINCT CHAIRMAN - SCHOOL BOARD   ALYSON SATTERWHITE             0  \n",
       "                                                           BABUR LATEEF                   0  \n",
       "                                                           STANLEY BENDER                 0  \n",
       "                                                           WRITEIN                        0  \n",
       "                                 CLERK OF COURT            CHERYL EDMONDSTON              0  \n",
       "...                                                                                     ...  \n",
       "ZUMBROTA TWP.                    COUNTY SHERIFF            PAUL GIELAU                    0  \n",
       "                                                           WRITEIN                        0  \n",
       "                                 SOIL AND WATER SUPERVISOR DONALD SCHLIEP                 0  \n",
       "                                                           MARK COMSTOCK                  0  \n",
       "                                                           WRITEIN                        0  \n",
       "\n",
       "[1253424 rows x 11 columns]"
      ]
     },
     "execution_count": 4,
     "metadata": {},
     "output_type": "execute_result"
    }
   ],
   "source": [
    "# pd.MultiIndex.from_product([data[\"precinct\"], data[\"office\"]])\n",
    "data.groupby([\"precinct\", \"office\", \"candidate\"]).sum(\"votes\")"
   ]
  },
  {
   "cell_type": "code",
   "execution_count": 5,
   "metadata": {},
   "outputs": [],
   "source": [
    "def model_A1(voters=None, count_1=None):\n",
    "  p = numpyro.sample(\"p\", dist.Uniform(low=0, high=1))\n",
    "  numpyro.sample(\"obs\", dist.Binomial(total_count=voters, probs=p), obs=count_1)"
   ]
  },
  {
   "cell_type": "code",
   "execution_count": 6,
   "metadata": {},
   "outputs": [
    {
     "name": "stderr",
     "output_type": "stream",
     "text": [
      "sample: 100%|██████████| 3000/3000 [00:04<00:00, 662.25it/s, 3 steps of size 1.32e+00. acc. prob=0.89]\n"
     ]
    },
    {
     "name": "stdout",
     "output_type": "stream",
     "text": [
      "\n",
      "                mean       std    median      5.0%     95.0%     n_eff     r_hat\n",
      "         p      0.40      0.02      0.40      0.37      0.44    607.85      1.00\n",
      "\n",
      "Number of divergences: 0\n"
     ]
    }
   ],
   "source": [
    "# Start from this source of randomness. We will split keys for subsequent operations.\n",
    "rng_key = random.PRNGKey(0)\n",
    "rng_key, rng_key_ = random.split(rng_key)\n",
    "\n",
    "# Run NUTS.\n",
    "kernel = NUTS(model_A1)\n",
    "num_samples = 2000\n",
    "mcmc = MCMC(kernel, num_warmup=1000, num_samples=num_samples)\n",
    "mcmc.run(\n",
    "    rng_key_, voters = 500, count_1 = 200\n",
    ")\n",
    "mcmc.print_summary()\n",
    "samples_1 = mcmc.get_samples()"
   ]
  },
  {
   "cell_type": "code",
   "execution_count": 7,
   "metadata": {},
   "outputs": [
    {
     "data": {
      "image/png": "[encoded data removed]",
      "text/plain": [
       "<Figure size 640x480 with 1 Axes>"
      ]
     },
     "metadata": {},
     "output_type": "display_data"
    }
   ],
   "source": [
    "posterior_predictive_A1 = Predictive(model_A1, samples_1)\n",
    "posterior_outcomes_A1 = posterior_predictive_A1(rng_key_, voters = 500)[\"obs\"]\n",
    "plt.hist(posterior_outcomes_A1)\n",
    "plt.show()"
   ]
  },
  {
   "cell_type": "code",
   "execution_count": 8,
   "metadata": {},
   "outputs": [],
   "source": [
    "def model_A2(voters=None, count_1=None):\n",
    "  shape_1 = numpyro.sample(\"shape_1\", dist.Exponential(rate=0.1))\n",
    "  shape_2 = numpyro.sample(\"shape_2\", dist.Exponential(rate=0.1))\n",
    "  numpyro.sample(\"obs\", dist.BetaBinomial(shape_1, shape_2, voters), obs=count_1)"
   ]
  },
  {
   "cell_type": "code",
   "execution_count": 9,
   "metadata": {},
   "outputs": [
    {
     "name": "stderr",
     "output_type": "stream",
     "text": [
      "sample: 100%|██████████| 3000/3000 [00:10<00:00, 275.47it/s, 7 steps of size 2.85e-01. acc. prob=0.95] \n"
     ]
    },
    {
     "name": "stdout",
     "output_type": "stream",
     "text": [
      "\n",
      "                mean       std    median      5.0%     95.0%     n_eff     r_hat\n",
      "   shape_1      8.56      5.37      7.61      0.69     16.16    634.77      1.00\n",
      "   shape_2     12.35      7.84     10.75      0.92     23.87    642.65      1.00\n",
      "\n",
      "Number of divergences: 0\n"
     ]
    }
   ],
   "source": [
    "# Start from this source of randomness. We will split keys for subsequent operations.\n",
    "rng_key = random.PRNGKey(0)\n",
    "rng_key, rng_key_ = random.split(rng_key)\n",
    "\n",
    "# Run NUTS.\n",
    "kernel = NUTS(model_A2)\n",
    "num_samples = 2000\n",
    "mcmc = MCMC(kernel, num_warmup=1000, num_samples=num_samples)\n",
    "mcmc.run(\n",
    "    rng_key_, voters = 500, count_1 = 200\n",
    ")\n",
    "mcmc.print_summary()\n",
    "samples_A2 = mcmc.get_samples()"
   ]
  },
  {
   "cell_type": "code",
   "execution_count": 10,
   "metadata": {},
   "outputs": [
    {
     "data": {
      "image/png": "[encoded data removed]",
      "text/plain": [
       "<Figure size 640x480 with 1 Axes>"
      ]
     },
     "metadata": {},
     "output_type": "display_data"
    }
   ],
   "source": [
    "posterior_predictive_A2 = Predictive(model_A2, samples_A2)\n",
    "posterior_outcomes_A2 = posterior_predictive_A2(rng_key_, voters = 500)[\"obs\"]\n",
    "plt.hist(posterior_outcomes_A2)\n",
    "plt.show()"
   ]
  },
  {
   "cell_type": "code",
   "execution_count": 11,
   "metadata": {},
   "outputs": [],
   "source": [
    "outcomes = jnp.concatenate([jnp.ones(200), jnp.zeros(300)])\n",
    "def model_A3(n_voters =None, outcomes = None):\n",
    "  pop_1 = numpyro.sample(\"pop_1\", dist.Beta(2, 2))\n",
    "  p_1 = numpyro.sample(\"p_1\", dist.Uniform(low=0.5, high=1.0))\n",
    "  p_2 = numpyro.sample(\"p_2\", dist.Uniform(low=0.0, high=0.5))\n",
    "  with numpyro.plate(\"data\", n_voters) as ind:\n",
    "    obs = outcomes[ind] if outcomes is not None else None\n",
    "    numpyro.sample(\"outcomes\", dist.MixtureSameFamily(dist.Categorical(jnp.stack([pop_1, 1 - pop_1])), dist.Bernoulli(jnp.stack([p_1, p_2]))), obs = obs)"
   ]
  },
  {
   "cell_type": "code",
   "execution_count": 12,
   "metadata": {},
   "outputs": [
    {
     "name": "stderr",
     "output_type": "stream",
     "text": [
      "sample: 100%|██████████| 3000/3000 [00:17<00:00, 174.17it/s, 3 steps of size 1.81e-01. acc. prob=0.90] \n"
     ]
    },
    {
     "name": "stdout",
     "output_type": "stream",
     "text": [
      "\n",
      "                mean       std    median      5.0%     95.0%     n_eff     r_hat\n",
      "       p_1      0.69      0.14      0.66      0.50      0.91    823.34      1.00\n",
      "       p_2      0.21      0.11      0.22      0.02      0.36    960.11      1.00\n",
      "     pop_1      0.40      0.17      0.40      0.11      0.66    848.58      1.00\n",
      "\n",
      "Number of divergences: 0\n"
     ]
    }
   ],
   "source": [
    "# Start from this source of randomness. We will split keys for subsequent operations.\n",
    "rng_key = random.PRNGKey(0)\n",
    "rng_key, rng_key_ = random.split(rng_key)\n",
    "\n",
    "# Run NUTS.\n",
    "kernel = NUTS(model_A3)\n",
    "num_samples = 2_000\n",
    "mcmc = MCMC(kernel, num_warmup=1000, num_samples=num_samples)\n",
    "mcmc.run(\n",
    "    rng_key_, n_voters = len(outcomes), outcomes = outcomes\n",
    ")\n",
    "mcmc.print_summary()\n",
    "samples_A3 = mcmc.get_samples()"
   ]
  },
  {
   "cell_type": "code",
   "execution_count": 13,
   "metadata": {},
   "outputs": [
    {
     "data": {
      "image/png": "[encoded data removed]",
      "text/plain": [
       "<Figure size 640x480 with 1 Axes>"
      ]
     },
     "metadata": {},
     "output_type": "display_data"
    }
   ],
   "source": [
    "posterior_predictive_A3 = Predictive(model_A3, samples_A3)\n",
    "posterior_samples = posterior_predictive_A3(rng_key_, n_voters = 500)\n",
    "posterior_outcomes_A3 = posterior_samples[\"outcomes\"].sum(axis = 1)\n",
    "sns.histplot(posterior_outcomes_A3, bins=20)\n",
    "plt.show()"
   ]
  },
  {
   "cell_type": "code",
   "execution_count": 49,
   "metadata": {},
   "outputs": [],
   "source": [
    "outcomes = jnp.stack(\n",
    "    [\n",
    "        jnp.concatenate([jnp.ones(200), jnp.zeros(300)]),\n",
    "        jnp.concatenate([jnp.ones(250), jnp.zeros(250)]),\n",
    "    ], axis = -1\n",
    ")\n",
    "\n",
    "\n",
    "num_communities = 3\n",
    "num_races = outcomes.shape[-1]\n",
    "\n",
    "# @config_enumerate\n",
    "def model_A4(n_voters=None, outcomes=None):\n",
    "    # pops = numpyro.sample(\"pops\", dist.Dirichlet(jnp.ones(num_communities)))\n",
    "    # pop_prefs = numpyro.sample(\"pop_prefs\", dist.Beta(2, 2), sample_shape = (num_communities,))\n",
    "    # pop_1 = numpyro.sample(\"pop_1\", dist.Beta(2, 2))\n",
    "    # p_1 = numpyro.sample(\"p_1\", dist.Uniform(low=jnp.full(2, 0.5), high=jnp.full(2, 1.0)))\n",
    "    # p_2 = numpyro.sample(\"p_2\", dist.Uniform(low=jnp.full(2, 0.0), high=jnp.full(2, 0.5)))\n",
    "    # with numpyro.plate(\"voter\", n_voters) as ind:\n",
    "    #     obs = outcomes[ind] if outcomes is not None else None\n",
    "    # with numpyro.plate(\"data\", len(outcomes)) as ind:\n",
    "    groups = numpyro.sample(\n",
    "        \"groups\",\n",
    "        dist.Categorical(probs=jnp.array([0.2, 0.8]))\n",
    "    )"
   ]
  },
  {
   "cell_type": "code",
   "execution_count": 50,
   "metadata": {},
   "outputs": [
    {
     "name": "stderr",
     "output_type": "stream",
     "text": [
      "/tmp/ipykernel_562470/1241973195.py:9: FutureWarning: Some algorithms will automatically enumerate the discrete latent site groups of your model. In the future, enumerated sites need to be marked with `infer={'enumerate': 'parallel'}`.\n",
      "  mcmc.run(\n",
      "  0%|          | 0/3000 [00:00<?, ?it/s]"
     ]
    },
    {
     "name": "stderr",
     "output_type": "stream",
     "text": [
      "sample: 100%|██████████| 3000/3000 [00:02<00:00, 1097.08it/s, 1 steps of size 3.40e+38. acc. prob=1.00]\n"
     ]
    },
    {
     "ename": "ValueError",
     "evalue": "max() iterable argument is empty",
     "output_type": "error",
     "traceback": [
      "\u001b[0;31m---------------------------------------------------------------------------\u001b[0m",
      "\u001b[0;31mValueError\u001b[0m                                Traceback (most recent call last)",
      "Cell \u001b[0;32mIn[50], line 12\u001b[0m\n\u001b[1;32m      8\u001b[0m mcmc \u001b[39m=\u001b[39m MCMC(kernel, num_warmup\u001b[39m=\u001b[39m\u001b[39m1000\u001b[39m, num_samples\u001b[39m=\u001b[39mnum_samples)\n\u001b[1;32m      9\u001b[0m mcmc\u001b[39m.\u001b[39mrun(\n\u001b[1;32m     10\u001b[0m     rng_key_, n_voters \u001b[39m=\u001b[39m \u001b[39mlen\u001b[39m(outcomes), outcomes \u001b[39m=\u001b[39m outcomes\n\u001b[1;32m     11\u001b[0m )\n\u001b[0;32m---> 12\u001b[0m mcmc\u001b[39m.\u001b[39;49mprint_summary()\n\u001b[1;32m     13\u001b[0m samples_A4 \u001b[39m=\u001b[39m mcmc\u001b[39m.\u001b[39mget_samples()\n",
      "File \u001b[0;32m~/mambaforge/envs/pystats/lib/python3.12/site-packages/numpyro/infer/mcmc.py:717\u001b[0m, in \u001b[0;36mMCMC.print_summary\u001b[0;34m(self, prob, exclude_deterministic)\u001b[0m\n\u001b[1;32m    711\u001b[0m     \u001b[39mif\u001b[39;00m \u001b[39misinstance\u001b[39m(state_sample_field, \u001b[39mdict\u001b[39m):\n\u001b[1;32m    712\u001b[0m         sites \u001b[39m=\u001b[39m {\n\u001b[1;32m    713\u001b[0m             k: v\n\u001b[1;32m    714\u001b[0m             \u001b[39mfor\u001b[39;00m k, v \u001b[39min\u001b[39;00m \u001b[39mself\u001b[39m\u001b[39m.\u001b[39m_states[\u001b[39mself\u001b[39m\u001b[39m.\u001b[39m_sample_field]\u001b[39m.\u001b[39mitems()\n\u001b[1;32m    715\u001b[0m             \u001b[39mif\u001b[39;00m k \u001b[39min\u001b[39;00m state_sample_field\n\u001b[1;32m    716\u001b[0m         }\n\u001b[0;32m--> 717\u001b[0m print_summary(sites, prob\u001b[39m=\u001b[39;49mprob)\n\u001b[1;32m    718\u001b[0m extra_fields \u001b[39m=\u001b[39m \u001b[39mself\u001b[39m\u001b[39m.\u001b[39mget_extra_fields()\n\u001b[1;32m    719\u001b[0m \u001b[39mif\u001b[39;00m \u001b[39m\"\u001b[39m\u001b[39mdiverging\u001b[39m\u001b[39m\"\u001b[39m \u001b[39min\u001b[39;00m extra_fields:\n",
      "File \u001b[0;32m~/mambaforge/envs/pystats/lib/python3.12/site-packages/numpyro/diagnostics.py:302\u001b[0m, in \u001b[0;36mprint_summary\u001b[0;34m(samples, prob, group_by_chain)\u001b[0m\n\u001b[1;32m    296\u001b[0m summary_dict \u001b[39m=\u001b[39m summary(samples, prob, group_by_chain\u001b[39m=\u001b[39m\u001b[39mTrue\u001b[39;00m)\n\u001b[1;32m    298\u001b[0m row_names \u001b[39m=\u001b[39m {\n\u001b[1;32m    299\u001b[0m     k: k \u001b[39m+\u001b[39m \u001b[39m\"\u001b[39m\u001b[39m[\u001b[39m\u001b[39m\"\u001b[39m \u001b[39m+\u001b[39m \u001b[39m\"\u001b[39m\u001b[39m,\u001b[39m\u001b[39m\"\u001b[39m\u001b[39m.\u001b[39mjoin(\u001b[39mmap\u001b[39m(\u001b[39mlambda\u001b[39;00m x: \u001b[39mstr\u001b[39m(x \u001b[39m-\u001b[39m \u001b[39m1\u001b[39m), v\u001b[39m.\u001b[39mshape[\u001b[39m2\u001b[39m:])) \u001b[39m+\u001b[39m \u001b[39m\"\u001b[39m\u001b[39m]\u001b[39m\u001b[39m\"\u001b[39m\n\u001b[1;32m    300\u001b[0m     \u001b[39mfor\u001b[39;00m k, v \u001b[39min\u001b[39;00m samples\u001b[39m.\u001b[39mitems()\n\u001b[1;32m    301\u001b[0m }\n\u001b[0;32m--> 302\u001b[0m max_len \u001b[39m=\u001b[39m \u001b[39mmax\u001b[39m(\u001b[39mmax\u001b[39;49m(\u001b[39mmap\u001b[39;49m(\u001b[39mlambda\u001b[39;49;00m x: \u001b[39mlen\u001b[39;49m(x), row_names\u001b[39m.\u001b[39;49mvalues())), \u001b[39m10\u001b[39m)\n\u001b[1;32m    303\u001b[0m name_format \u001b[39m=\u001b[39m \u001b[39m\"\u001b[39m\u001b[39m{\u001b[39m\u001b[39m:>\u001b[39m\u001b[39m\"\u001b[39m \u001b[39m+\u001b[39m \u001b[39mstr\u001b[39m(max_len) \u001b[39m+\u001b[39m \u001b[39m\"\u001b[39m\u001b[39m}\u001b[39m\u001b[39m\"\u001b[39m\n\u001b[1;32m    304\u001b[0m header_format \u001b[39m=\u001b[39m name_format \u001b[39m+\u001b[39m \u001b[39m\"\u001b[39m\u001b[39m \u001b[39m\u001b[39m{:>9}\u001b[39;00m\u001b[39m\"\u001b[39m \u001b[39m*\u001b[39m \u001b[39m7\u001b[39m\n",
      "\u001b[0;31mValueError\u001b[0m: max() iterable argument is empty"
     ]
    }
   ],
   "source": [
    "# Start from this source of randomness. We will split keys for subsequent operations.\n",
    "rng_key = random.PRNGKey(0)\n",
    "rng_key, rng_key_ = random.split(rng_key)\n",
    "\n",
    "# Run NUTS.\n",
    "kernel = NUTS(model_A4)\n",
    "num_samples = 2_000\n",
    "mcmc = MCMC(kernel, num_warmup=1000, num_samples=num_samples)\n",
    "mcmc.run(\n",
    "    rng_key_, n_voters = len(outcomes), outcomes = outcomes\n",
    ")\n",
    "mcmc.print_summary()\n",
    "samples_A4 = mcmc.get_samples()"
   ]
  },
  {
   "cell_type": "code",
   "execution_count": null,
   "metadata": {},
   "outputs": [
    {
     "ename": "KeyError",
     "evalue": "'outcomes'",
     "output_type": "error",
     "traceback": [
      "\u001b[0;31m---------------------------------------------------------------------------\u001b[0m",
      "\u001b[0;31mKeyError\u001b[0m                                  Traceback (most recent call last)",
      "Cell \u001b[0;32mIn[44], line 1\u001b[0m\n\u001b[0;32m----> 1\u001b[0m samples_A4[\u001b[39m'\u001b[39;49m\u001b[39moutcomes\u001b[39;49m\u001b[39m'\u001b[39;49m]\n",
      "\u001b[0;31mKeyError\u001b[0m: 'outcomes'"
     ]
    }
   ],
   "source": [
    "samples_A4['outcomes']"
   ]
  },
  {
   "cell_type": "code",
   "execution_count": null,
   "metadata": {},
   "outputs": [],
   "source": []
  }
 ],
 "metadata": {
  "kernelspec": {
   "display_name": "pystats",
   "language": "python",
   "name": "python3"
  },
  "language_info": {
   "codemirror_mode": {
    "name": "ipython",
    "version": 3
   },
   "file_extension": ".py",
   "mimetype": "text/x-python",
   "name": "python",
   "nbconvert_exporter": "python",
   "pygments_lexer": "ipython3",
   "version": "3.12.0"
  }
 },
 "nbformat": 4,
 "nbformat_minor": 2
}
