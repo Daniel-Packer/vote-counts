{
 "cells": [
  {
   "cell_type": "code",
   "execution_count": 1,
   "metadata": {},
   "outputs": [
    {
     "name": "stdout",
     "output_type": "stream",
     "text": [
      "/cis/home/dpacker/my_documents/vote-counts\n"
     ]
    }
   ],
   "source": [
    "%load_ext autoreload\n",
    "%autoreload 2\n",
    "%cd .."
   ]
  },
  {
   "cell_type": "code",
   "execution_count": 68,
   "metadata": {},
   "outputs": [],
   "source": [
    "import pandas as pd\n",
    "from pathlib import Path\n",
    "import numpyro\n",
    "from numpyro import distributions as dist\n",
    "from numpyro.infer import NUTS, MCMC, Predictive\n",
    "from jax import random, numpy as jnp\n",
    "import matplotlib.pyplot as plt\n",
    "import numpy as np\n",
    "import seaborn as sns\n",
    "import os\n",
    "from src import preprocessing\n",
    "from scipy import stats\n",
    "\n",
    "os.environ['CUDA_VISIBLE_DEVICES'] = '3'\n",
    "\n",
    "path_data = Path(\"data\")\n",
    "path_raw_data = path_data / \"raw_data\""
   ]
  },
  {
   "cell_type": "code",
   "execution_count": 3,
   "metadata": {},
   "outputs": [
    {
     "name": "stderr",
     "output_type": "stream",
     "text": [
      "/tmp/ipykernel_1649735/2796876182.py:1: DtypeWarning: Columns (0,11) have mixed types. Specify dtype option on import or set low_memory=False.\n",
      "  raw_data = pd.read_csv(path_raw_data / \"State_2020.csv\")\n"
     ]
    }
   ],
   "source": [
    "raw_data = pd.read_csv(path_raw_data / \"State_2020.csv\")\n",
    "# data = preprocessing.preprocess(raw_data)\n",
    "# raw_data[\"county_fips\"] = raw_data[\"county_fips\"].astype(int)"
   ]
  },
  {
   "cell_type": "code",
   "execution_count": 4,
   "metadata": {},
   "outputs": [],
   "source": [
    "group_cols = [\"state\", \"district\", \"office\", \"candidate\", \"party_simplified\"]\n",
    "vote_totals = raw_data[[*group_cols, \"votes\"]].groupby(group_cols).sum()"
   ]
  },
  {
   "cell_type": "code",
   "execution_count": 8,
   "metadata": {},
   "outputs": [],
   "source": [
    "group_cols = [\"county_fips\", \"state\", \"district\", \"office\"]\n",
    "df = raw_data[[*group_cols, \"votes\"]].groupby(group_cols).sum()\n",
    "df = df.reset_index(level=[1,2,3])\n",
    "df[\"election_name\"] = df[\"state\"].astype(str) + \"|\" + df[\"district\"].astype(str) + \"|\" + df[\"office\"].astype(str)\n",
    "county_to_election_name = {}\n",
    "\n",
    "for key, row in df.iterrows():\n",
    "  if key in county_to_election_name:\n",
    "    county_to_election_name[key].append(row[\"election_name\"])\n",
    "  else:\n",
    "    county_to_election_name[key] = [row[\"election_name\"]]\n",
    "\n",
    "election_names = df[\"election_name\"].unique()"
   ]
  },
  {
   "cell_type": "code",
   "execution_count": 29,
   "metadata": {},
   "outputs": [],
   "source": [
    "county_parties = raw_data[[\"county_fips\", \"party_simplified\"]].groupby([\"county_fips\", \"party_simplified\"]).count().reset_index()\n",
    "# county_to_election_name\n",
    "partisan_election = (county_parties[\"party_simplified\"] == \"REPUBLICAN\") | (county_parties[\"party_simplified\"] == \"DEMOCRAT\")\n",
    "county_competitive_partisan = (county_parties[partisan_election].groupby(\"county_fips\").nunique() == 2)\n",
    "competitive_partisan_counties = county_competitive_partisan[county_competitive_partisan[\"party_simplified\"]].index\n"
   ]
  },
  {
   "cell_type": "code",
   "execution_count": null,
   "metadata": {},
   "outputs": [],
   "source": []
  },
  {
   "cell_type": "code",
   "execution_count": 7,
   "metadata": {},
   "outputs": [
    {
     "name": "stdout",
     "output_type": "stream",
     "text": [
      "FLORIDA|010|STATE HOUSE\n"
     ]
    },
    {
     "data": {
      "text/html": [
       "<div>\n",
       "<style scoped>\n",
       "    .dataframe tbody tr th:only-of-type {\n",
       "        vertical-align: middle;\n",
       "    }\n",
       "\n",
       "    .dataframe tbody tr th {\n",
       "        vertical-align: top;\n",
       "    }\n",
       "\n",
       "    .dataframe thead th {\n",
       "        text-align: right;\n",
       "    }\n",
       "</style>\n",
       "<table border=\"1\" class=\"dataframe\">\n",
       "  <thead>\n",
       "    <tr style=\"text-align: right;\">\n",
       "      <th></th>\n",
       "      <th></th>\n",
       "      <th>votes</th>\n",
       "    </tr>\n",
       "    <tr>\n",
       "      <th>candidate</th>\n",
       "      <th>party_simplified</th>\n",
       "      <th></th>\n",
       "    </tr>\n",
       "  </thead>\n",
       "  <tbody>\n",
       "    <tr>\n",
       "      <th>CHUCK BRANNAN</th>\n",
       "      <th>REPUBLICAN</th>\n",
       "      <td>58872</td>\n",
       "    </tr>\n",
       "    <tr>\n",
       "      <th>ROCK ABOUJAOUDE JR</th>\n",
       "      <th>DEMOCRAT</th>\n",
       "      <td>16456</td>\n",
       "    </tr>\n",
       "  </tbody>\n",
       "</table>\n",
       "</div>"
      ],
      "text/plain": [
       "                                     votes\n",
       "candidate          party_simplified       \n",
       "CHUCK BRANNAN      REPUBLICAN        58872\n",
       "ROCK ABOUJAOUDE JR DEMOCRAT          16456"
      ]
     },
     "execution_count": 7,
     "metadata": {},
     "output_type": "execute_result"
    }
   ],
   "source": [
    "election_name = county_to_election_name[12001.0][0]\n",
    "election_index = tuple(election_name.split(\"|\"))\n",
    "print(election_name)\n",
    "vote_totals.loc[election_index]"
   ]
  },
  {
   "cell_type": "code",
   "execution_count": 11,
   "metadata": {},
   "outputs": [],
   "source": [
    "election_indices = [tuple(election_name.split(\"|\")) for election_name in election_names]"
   ]
  },
  {
   "cell_type": "code",
   "execution_count": 40,
   "metadata": {},
   "outputs": [
    {
     "data": {
      "text/plain": [
       "'ALABAMA|003|STATE BOARD OF EDUCATION'"
      ]
     },
     "execution_count": 40,
     "metadata": {},
     "output_type": "execute_result"
    }
   ],
   "source": [
    "election_names[0]"
   ]
  },
  {
   "cell_type": "code",
   "execution_count": 12,
   "metadata": {},
   "outputs": [],
   "source": [
    "import numpyro\n",
    "from numpyro import distributions as dist"
   ]
  },
  {
   "cell_type": "code",
   "execution_count": 54,
   "metadata": {},
   "outputs": [
    {
     "data": {
      "text/html": [
       "<div>\n",
       "<style scoped>\n",
       "    .dataframe tbody tr th:only-of-type {\n",
       "        vertical-align: middle;\n",
       "    }\n",
       "\n",
       "    .dataframe tbody tr th {\n",
       "        vertical-align: top;\n",
       "    }\n",
       "\n",
       "    .dataframe thead th {\n",
       "        text-align: right;\n",
       "    }\n",
       "</style>\n",
       "<table border=\"1\" class=\"dataframe\">\n",
       "  <thead>\n",
       "    <tr style=\"text-align: right;\">\n",
       "      <th>party_simplified</th>\n",
       "      <th>DEMOCRAT</th>\n",
       "      <th>LIBERTARIAN</th>\n",
       "      <th>NONPARTISAN</th>\n",
       "      <th>OTHER</th>\n",
       "      <th>REPUBLICAN</th>\n",
       "    </tr>\n",
       "    <tr>\n",
       "      <th>election_name</th>\n",
       "      <th></th>\n",
       "      <th></th>\n",
       "      <th></th>\n",
       "      <th></th>\n",
       "      <th></th>\n",
       "    </tr>\n",
       "  </thead>\n",
       "  <tbody>\n",
       "    <tr>\n",
       "      <th>ALABAMA|001|STATE BOARD OF EDUCATION</th>\n",
       "      <td>79380.0</td>\n",
       "      <td>NaN</td>\n",
       "      <td>NaN</td>\n",
       "      <td>NaN</td>\n",
       "      <td>212461.0</td>\n",
       "    </tr>\n",
       "    <tr>\n",
       "      <th>ALABAMA|003|STATE BOARD OF EDUCATION</th>\n",
       "      <td>94375.0</td>\n",
       "      <td>NaN</td>\n",
       "      <td>NaN</td>\n",
       "      <td>NaN</td>\n",
       "      <td>209909.0</td>\n",
       "    </tr>\n",
       "    <tr>\n",
       "      <th>ALABAMA|005|STATE BOARD OF EDUCATION</th>\n",
       "      <td>161192.0</td>\n",
       "      <td>NaN</td>\n",
       "      <td>NaN</td>\n",
       "      <td>NaN</td>\n",
       "      <td>95593.0</td>\n",
       "    </tr>\n",
       "    <tr>\n",
       "      <th>ALABAMA|007|STATE BOARD OF EDUCATION</th>\n",
       "      <td>NaN</td>\n",
       "      <td>NaN</td>\n",
       "      <td>NaN</td>\n",
       "      <td>NaN</td>\n",
       "      <td>230122.0</td>\n",
       "    </tr>\n",
       "    <tr>\n",
       "      <th>ALABAMA|CIRCUIT 10, PLACE 10|CIRCUIT COURT JUDGE</th>\n",
       "      <td>195110.0</td>\n",
       "      <td>NaN</td>\n",
       "      <td>NaN</td>\n",
       "      <td>NaN</td>\n",
       "      <td>NaN</td>\n",
       "    </tr>\n",
       "    <tr>\n",
       "      <th>...</th>\n",
       "      <td>...</td>\n",
       "      <td>...</td>\n",
       "      <td>...</td>\n",
       "      <td>...</td>\n",
       "      <td>...</td>\n",
       "    </tr>\n",
       "    <tr>\n",
       "      <th>WYOMING|058|STATE HOUSE</th>\n",
       "      <td>NaN</td>\n",
       "      <td>646.0</td>\n",
       "      <td>NaN</td>\n",
       "      <td>NaN</td>\n",
       "      <td>2725.0</td>\n",
       "    </tr>\n",
       "    <tr>\n",
       "      <th>WYOMING|059|STATE HOUSE</th>\n",
       "      <td>1104.0</td>\n",
       "      <td>NaN</td>\n",
       "      <td>NaN</td>\n",
       "      <td>NaN</td>\n",
       "      <td>2658.0</td>\n",
       "    </tr>\n",
       "    <tr>\n",
       "      <th>WYOMING|060|STATE HOUSE</th>\n",
       "      <td>1260.0</td>\n",
       "      <td>NaN</td>\n",
       "      <td>NaN</td>\n",
       "      <td>NaN</td>\n",
       "      <td>2793.0</td>\n",
       "    </tr>\n",
       "    <tr>\n",
       "      <th>WYOMING|STATEWIDE|CONSTITUTIONAL AMENDMENT A DEBT LIMITS FOR MUNICIPAL SEWER PROJECTS</th>\n",
       "      <td>NaN</td>\n",
       "      <td>NaN</td>\n",
       "      <td>123698.5</td>\n",
       "      <td>NaN</td>\n",
       "      <td>NaN</td>\n",
       "    </tr>\n",
       "    <tr>\n",
       "      <th>WYOMING|STATEWIDE|JUSTICE OF THE SUPREME COURT</th>\n",
       "      <td>NaN</td>\n",
       "      <td>NaN</td>\n",
       "      <td>118647.5</td>\n",
       "      <td>NaN</td>\n",
       "      <td>NaN</td>\n",
       "    </tr>\n",
       "  </tbody>\n",
       "</table>\n",
       "<p>6378 rows × 5 columns</p>\n",
       "</div>"
      ],
      "text/plain": [
       "party_simplified                                    DEMOCRAT  LIBERTARIAN  \\\n",
       "election_name                                                               \n",
       "ALABAMA|001|STATE BOARD OF EDUCATION                 79380.0          NaN   \n",
       "ALABAMA|003|STATE BOARD OF EDUCATION                 94375.0          NaN   \n",
       "ALABAMA|005|STATE BOARD OF EDUCATION                161192.0          NaN   \n",
       "ALABAMA|007|STATE BOARD OF EDUCATION                     NaN          NaN   \n",
       "ALABAMA|CIRCUIT 10, PLACE 10|CIRCUIT COURT JUDGE    195110.0          NaN   \n",
       "...                                                      ...          ...   \n",
       "WYOMING|058|STATE HOUSE                                  NaN        646.0   \n",
       "WYOMING|059|STATE HOUSE                               1104.0          NaN   \n",
       "WYOMING|060|STATE HOUSE                               1260.0          NaN   \n",
       "WYOMING|STATEWIDE|CONSTITUTIONAL AMENDMENT A DE...       NaN          NaN   \n",
       "WYOMING|STATEWIDE|JUSTICE OF THE SUPREME COURT           NaN          NaN   \n",
       "\n",
       "party_simplified                                    NONPARTISAN  OTHER  \\\n",
       "election_name                                                            \n",
       "ALABAMA|001|STATE BOARD OF EDUCATION                        NaN    NaN   \n",
       "ALABAMA|003|STATE BOARD OF EDUCATION                        NaN    NaN   \n",
       "ALABAMA|005|STATE BOARD OF EDUCATION                        NaN    NaN   \n",
       "ALABAMA|007|STATE BOARD OF EDUCATION                        NaN    NaN   \n",
       "ALABAMA|CIRCUIT 10, PLACE 10|CIRCUIT COURT JUDGE            NaN    NaN   \n",
       "...                                                         ...    ...   \n",
       "WYOMING|058|STATE HOUSE                                     NaN    NaN   \n",
       "WYOMING|059|STATE HOUSE                                     NaN    NaN   \n",
       "WYOMING|060|STATE HOUSE                                     NaN    NaN   \n",
       "WYOMING|STATEWIDE|CONSTITUTIONAL AMENDMENT A DE...     123698.5    NaN   \n",
       "WYOMING|STATEWIDE|JUSTICE OF THE SUPREME COURT         118647.5    NaN   \n",
       "\n",
       "party_simplified                                    REPUBLICAN  \n",
       "election_name                                                   \n",
       "ALABAMA|001|STATE BOARD OF EDUCATION                  212461.0  \n",
       "ALABAMA|003|STATE BOARD OF EDUCATION                  209909.0  \n",
       "ALABAMA|005|STATE BOARD OF EDUCATION                   95593.0  \n",
       "ALABAMA|007|STATE BOARD OF EDUCATION                  230122.0  \n",
       "ALABAMA|CIRCUIT 10, PLACE 10|CIRCUIT COURT JUDGE           NaN  \n",
       "...                                                        ...  \n",
       "WYOMING|058|STATE HOUSE                                 2725.0  \n",
       "WYOMING|059|STATE HOUSE                                 2658.0  \n",
       "WYOMING|060|STATE HOUSE                                 2793.0  \n",
       "WYOMING|STATEWIDE|CONSTITUTIONAL AMENDMENT A DE...         NaN  \n",
       "WYOMING|STATEWIDE|JUSTICE OF THE SUPREME COURT             NaN  \n",
       "\n",
       "[6378 rows x 5 columns]"
      ]
     },
     "execution_count": 54,
     "metadata": {},
     "output_type": "execute_result"
    }
   ],
   "source": [
    "# vote_totals.loc[election_indices[2]]\n",
    "df = vote_totals.reset_index()\n",
    "df[\"election_name\"] = df[\"state\"] + \"|\" + df[\"district\"].astype(str) + \"|\" + df[\"office\"]\n",
    "df[[\"election_name\", \"party_simplified\", \"votes\"]].pivot_table(values=\"votes\", columns=\"party_simplified\", index=\"election_name\")\n",
    "# def model()"
   ]
  },
  {
   "cell_type": "code",
   "execution_count": 7,
   "metadata": {},
   "outputs": [],
   "source": [
    "group_cols = [\"county_fips\", \"state\", \"district\", \"office\", \"candidate\", \"party_simplified\"]\n",
    "vote_totals = raw_data[[*group_cols, \"votes\"]].groupby(group_cols).sum()"
   ]
  },
  {
   "cell_type": "code",
   "execution_count": 62,
   "metadata": {},
   "outputs": [],
   "source": [
    "county_partisan = (\n",
    "    vote_totals.reset_index(-1)\n",
    "    .query(\"party_simplified == 'DEMOCRAT' or party_simplified == 'REPUBLICAN'\")\n",
    "    .pivot_table(\n",
    "        values=\"votes\",\n",
    "        index=[\"county_fips\", \"district\", \"office\"],\n",
    "        columns=[\"party_simplified\"],\n",
    "        aggfunc=\"sum\",\n",
    "    )\n",
    ")\n",
    "\n",
    "county_partisan[\"total_votes\"] = (\n",
    "    county_partisan[\"DEMOCRAT\"] + county_partisan[\"REPUBLICAN\"]\n",
    ")\n",
    "\n",
    "county_partisan[\"p_democrat\"] = (\n",
    "    county_partisan[\"DEMOCRAT\"] / county_partisan[\"total_votes\"]\n",
    ")\n",
    "\n",
    "county_partisan_agg = county_partisan.dropna().reset_index().groupby(\"county_fips\")\n",
    "\n",
    "county_probs = pd.DataFrame(\n",
    "    {\n",
    "        \"mean_p_democrat\": county_partisan_agg.mean(numeric_only=True)[\"p_democrat\"],\n",
    "        \"std_p_democrat\": county_partisan_agg.std(numeric_only=True)[\"p_democrat\"],\n",
    "        \"obs_p_democrat\": county_partisan_agg.count()[\"p_democrat\"],\n",
    "        \"total_votes\": county_partisan_agg.max(numeric_only=True)[\"total_votes\"]\n",
    "    }\n",
    ")\n",
    "\n",
    "county_probs[\"std_p_democrat\"] = county_probs[\"std_p_democrat\"].fillna(\n",
    "    county_probs[\"std_p_democrat\"].dropna().mean()\n",
    ")"
   ]
  },
  {
   "cell_type": "code",
   "execution_count": 69,
   "metadata": {},
   "outputs": [],
   "source": [
    "county_probs\n",
    "for ind, row in county_probs.iterrows():\n",
    "    mean_p = row[\"mean_p_democrat\"]\n",
    "    std_p = row[\"std_p_democrat\"]\n",
    "    county_probs.loc[ind, \"p_05\"] = stats.t.pdf(0.5, 4, loc=mean_p, scale=std_p)\n",
    "county_probs[\"pivot_odds\"] = county_probs[\"p_05\"] / county_probs[\"total_votes\"]\n",
    "county_probs[\"log_pivot_odds\"] = np.log(county_probs[\"p_05\"] / county_probs[\"total_votes\"])"
   ]
  },
  {
   "cell_type": "code",
   "execution_count": 70,
   "metadata": {},
   "outputs": [],
   "source": [
    "to_save = county_probs.reset_index()[[\"county_fips\", \"pivot_odds\", \"log_pivot_odds\"]]"
   ]
  },
  {
   "cell_type": "code",
   "execution_count": 72,
   "metadata": {},
   "outputs": [],
   "source": [
    "to_save.to_csv(path_data / \"partisan_county_pivot_odds.csv\")"
   ]
  }
 ],
 "metadata": {
  "kernelspec": {
   "display_name": "pystats",
   "language": "python",
   "name": "python3"
  },
  "language_info": {
   "codemirror_mode": {
    "name": "ipython",
    "version": 3
   },
   "file_extension": ".py",
   "mimetype": "text/x-python",
   "name": "python",
   "nbconvert_exporter": "python",
   "pygments_lexer": "ipython3",
   "version": "3.12.0"
  }
 },
 "nbformat": 4,
 "nbformat_minor": 2
}
