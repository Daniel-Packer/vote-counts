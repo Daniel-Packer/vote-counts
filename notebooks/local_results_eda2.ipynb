{
 "cells": [
  {
   "cell_type": "code",
   "execution_count": 1,
   "metadata": {},
   "outputs": [
    {
     "name": "stdout",
     "output_type": "stream",
     "text": [
      "/cis/home/dpacker/my_documents/vote-counts\n"
     ]
    }
   ],
   "source": [
    "%load_ext autoreload\n",
    "%autoreload 2\n",
    "%cd .."
   ]
  },
  {
   "cell_type": "code",
   "execution_count": 2,
   "metadata": {},
   "outputs": [],
   "source": [
    "import pandas as pd\n",
    "from pathlib import Path\n",
    "import numpyro\n",
    "from numpyro import distributions as dist\n",
    "from numpyro.infer import NUTS, MCMC, Predictive\n",
    "from jax import random, numpy as jnp\n",
    "import matplotlib.pyplot as plt\n",
    "import seaborn as sns\n",
    "import os\n",
    "from numpyro.contrib.funsor import config_enumerate, infer_discrete\n",
    "from src import preprocessing\n",
    "\n",
    "os.environ['CUDA_VISIBLE_DEVICES'] = '3'\n",
    "\n",
    "path_data = Path(\"data\")\n",
    "path_raw_data = path_data / \"raw_data\""
   ]
  },
  {
   "cell_type": "code",
   "execution_count": 49,
   "metadata": {},
   "outputs": [
    {
     "name": "stderr",
     "output_type": "stream",
     "text": [
      "/tmp/ipykernel_991729/3180180344.py:1: DtypeWarning: Columns (2,3,11) have mixed types. Specify dtype option on import or set low_memory=False.\n",
      "  raw_data = pd.read_csv(path_raw_data / \"Local_2018.csv\")\n"
     ]
    }
   ],
   "source": [
    "raw_data = pd.read_csv(path_raw_data / \"Local_2018.csv\")\n",
    "data = preprocessing.preprocess(raw_data)\n",
    "elections_dict = preprocessing.get_elections_dict(data)"
   ]
  },
  {
   "cell_type": "code",
   "execution_count": 43,
   "metadata": {},
   "outputs": [],
   "source": []
  },
  {
   "cell_type": "code",
   "execution_count": 44,
   "metadata": {},
   "outputs": [],
   "source": []
  },
  {
   "cell_type": "code",
   "execution_count": 48,
   "metadata": {},
   "outputs": [
    {
     "data": {
      "text/plain": [
       "{'COUNTY BOARD OF EDUCATION MEMBER':          party       candidate  votes\n",
       " 38    DEMOCRAT  ELAINE R JONES    504\n",
       " 39  REPUBLICAN      JOE MATHIS    310\n",
       " 40  REPUBLICAN   MIKE MCMILLAN   1289,\n",
       " 'COUNTY COMMISSION MEMBER':          party        candidate  votes\n",
       " 42  REPUBLICAN  CHARLES CADDELL   1276\n",
       " 43  REPUBLICAN    JAMES R KELLY   1206}"
      ]
     },
     "execution_count": 48,
     "metadata": {},
     "output_type": "execute_result"
    }
   ],
   "source": [
    "elections_dict[1007]"
   ]
  }
 ],
 "metadata": {
  "kernelspec": {
   "display_name": "pystats",
   "language": "python",
   "name": "python3"
  },
  "language_info": {
   "codemirror_mode": {
    "name": "ipython",
    "version": 3
   },
   "file_extension": ".py",
   "mimetype": "text/x-python",
   "name": "python",
   "nbconvert_exporter": "python",
   "pygments_lexer": "ipython3",
   "version": "3.12.0"
  }
 },
 "nbformat": 4,
 "nbformat_minor": 2
}
