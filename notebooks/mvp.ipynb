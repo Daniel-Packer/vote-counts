{
 "cells": [
  {
   "cell_type": "code",
   "execution_count": 1,
   "metadata": {},
   "outputs": [
    {
     "name": "stdout",
     "output_type": "stream",
     "text": [
      "/cis/home/dpacker/my_documents/vote-counts\n"
     ]
    }
   ],
   "source": [
    "%load_ext autoreload\n",
    "%autoreload 2\n",
    "%cd .."
   ]
  },
  {
   "cell_type": "code",
   "execution_count": 63,
   "metadata": {},
   "outputs": [],
   "source": [
    "import pandas as pd\n",
    "from pathlib import Path\n",
    "import numpyro\n",
    "import jax\n",
    "from numpyro import distributions as dist\n",
    "from numpyro.infer import NUTS, MCMC, Predictive\n",
    "from jax import random, numpy as jnp\n",
    "import matplotlib.pyplot as plt\n",
    "import seaborn as sns\n",
    "import os\n",
    "from numpyro.contrib.funsor import config_enumerate, infer_discrete\n",
    "from src import preprocessing\n",
    "from scipy.stats import gaussian_kde\n",
    "\n",
    "os.environ['CUDA_VISIBLE_DEVICES'] = '3'\n",
    "\n",
    "path_data = Path(\"data\")\n",
    "path_raw_data = path_data / \"raw_data\""
   ]
  },
  {
   "cell_type": "code",
   "execution_count": 39,
   "metadata": {},
   "outputs": [],
   "source": [
    "def evaluate_kde(points: jnp.ndarray, value: float):\n",
    "  kde = jax.scipy.stats.gaussian_kde(points)\n",
    "  return kde(value)\n",
    "\n",
    "def get_pivot_odds(p_samples, num_voters_array):\n",
    "  return jax.vmap(evaluate_kde, in_axes=(0, None))(p_samples.T, 0.5)[:, 0] / (num_voters_array + 1)"
   ]
  },
  {
   "cell_type": "code",
   "execution_count": 3,
   "metadata": {},
   "outputs": [
    {
     "name": "stderr",
     "output_type": "stream",
     "text": [
      "/tmp/ipykernel_1053851/3180180344.py:1: DtypeWarning: Columns (2,3,11) have mixed types. Specify dtype option on import or set low_memory=False.\n",
      "  raw_data = pd.read_csv(path_raw_data / \"Local_2018.csv\")\n"
     ]
    }
   ],
   "source": [
    "raw_data = pd.read_csv(path_raw_data / \"Local_2018.csv\")\n",
    "data = preprocessing.preprocess(raw_data)\n",
    "elections_dict = preprocessing.get_elections_dict(data)"
   ]
  },
  {
   "cell_type": "code",
   "execution_count": 4,
   "metadata": {},
   "outputs": [],
   "source": [
    "county_ids = list(elections_dict.keys())\n",
    "example_county_id = county_ids[400]\n",
    "example_county_elections = elections_dict[example_county_id]\n",
    "top_two_elections = {}\n",
    "for election_id, election in example_county_elections.items():\n",
    "    top_two_elections[election_id] = election.sort_values(by = \"votes\", ascending=False).iloc[:2]"
   ]
  },
  {
   "cell_type": "code",
   "execution_count": 5,
   "metadata": {},
   "outputs": [],
   "source": [
    "def model_basic(num_voters=None, votes=None):\n",
    "    p = numpyro.sample(\"p\", dist.Beta(4, 4))\n",
    "    numpyro.sample(\n",
    "        \"observed_votes\", dist.Binomial(total_count=num_voters, probs=p), obs=votes\n",
    "    )"
   ]
  },
  {
   "cell_type": "code",
   "execution_count": 6,
   "metadata": {},
   "outputs": [],
   "source": [
    "ex_election = top_two_elections[\"CITY COUNCIL - COLUMBIA\"]\n",
    "num_voters = ex_election[\"votes\"].sum()\n",
    "votes_0 = ex_election.iloc[0][\"votes\"]"
   ]
  },
  {
   "cell_type": "code",
   "execution_count": 7,
   "metadata": {},
   "outputs": [
    {
     "name": "stderr",
     "output_type": "stream",
     "text": [
      "sample: 100%|██████████| 3000/3000 [00:04<00:00, 654.43it/s, 1 steps of size 1.06e+00. acc. prob=0.93]\n"
     ]
    },
    {
     "name": "stdout",
     "output_type": "stream",
     "text": [
      "\n",
      "                mean       std    median      5.0%     95.0%     n_eff     r_hat\n",
      "         p      0.50      0.01      0.50      0.48      0.52    581.12      1.00\n",
      "\n",
      "Number of divergences: 0\n"
     ]
    }
   ],
   "source": [
    "# Start from this source of randomness. We will split keys for subsequent operations.\n",
    "rng_key = random.PRNGKey(0)\n",
    "rng_key, rng_key_ = random.split(rng_key)\n",
    "\n",
    "# Run NUTS.\n",
    "kernel = NUTS(model_basic)\n",
    "num_samples = 2_000\n",
    "mcmc = MCMC(kernel, num_warmup=1000, num_samples=num_samples)\n",
    "mcmc.run(\n",
    "    rng_key_,\n",
    "    num_voters = num_voters,\n",
    "    votes = votes_0\n",
    ")\n",
    "mcmc.print_summary()\n",
    "samples_basic = mcmc.get_samples()"
   ]
  },
  {
   "cell_type": "code",
   "execution_count": 14,
   "metadata": {},
   "outputs": [],
   "source": [
    "def model_basic_batched(num_voters_array=None, votes_array=None):\n",
    "    with numpyro.plate(\"election\", len(num_voters_array)) as ind:\n",
    "        p = numpyro.sample(\"p\", dist.Beta(4, 4))\n",
    "        numpyro.sample(\n",
    "            \"observed_votes\",\n",
    "            dist.Binomial(total_count=num_voters_array[ind], probs=p),\n",
    "            obs=votes_array[ind],\n",
    "        )"
   ]
  },
  {
   "cell_type": "code",
   "execution_count": 20,
   "metadata": {},
   "outputs": [],
   "source": [
    "num_voters_list = []\n",
    "votes_list = []\n",
    "for key, election in top_two_elections.items():\n",
    "    num_voters_list.append(election[\"votes\"].sum())\n",
    "    votes_list.append(election.iloc[0][\"votes\"])\n",
    "num_voters_array = jnp.array(num_voters_list)\n",
    "votes_array = jnp.array(votes_list)"
   ]
  },
  {
   "cell_type": "code",
   "execution_count": 21,
   "metadata": {},
   "outputs": [
    {
     "name": "stderr",
     "output_type": "stream",
     "text": [
      "  0%|          | 0/3000 [00:00<?, ?it/s]"
     ]
    },
    {
     "name": "stderr",
     "output_type": "stream",
     "text": [
      "sample: 100%|██████████| 3000/3000 [00:07<00:00, 397.98it/s, 7 steps of size 6.65e-01. acc. prob=0.90] "
     ]
    },
    {
     "name": "stdout",
     "output_type": "stream",
     "text": [
      "\n",
      "                mean       std    median      5.0%     95.0%     n_eff     r_hat\n",
      "      p[0]      0.50      0.01      0.50      0.48      0.52   4005.03      1.00\n",
      "      p[1]      0.52      0.01      0.52      0.50      0.54   3666.99      1.00\n",
      "      p[2]      0.85      0.00      0.85      0.84      0.85   3819.35      1.00\n",
      "      p[3]      0.55      0.01      0.55      0.54      0.56   4184.84      1.00\n",
      "      p[4]      0.53      0.01      0.53      0.51      0.54   3717.68      1.00\n",
      "      p[5]      0.53      0.02      0.53      0.50      0.55   3502.39      1.00\n",
      "      p[6]      0.52      0.01      0.52      0.51      0.54   4772.17      1.00\n",
      "      p[7]      0.59      0.01      0.59      0.58      0.60   4286.73      1.00\n",
      "      p[8]      0.63      0.01      0.63      0.62      0.64   5020.87      1.00\n",
      "\n",
      "Number of divergences: 0\n"
     ]
    },
    {
     "name": "stderr",
     "output_type": "stream",
     "text": [
      "\n"
     ]
    }
   ],
   "source": [
    "# Run NUTS.\n",
    "kernel = NUTS(model_basic_batched)\n",
    "num_samples = 2_000\n",
    "mcmc = MCMC(kernel, num_warmup=1000, num_samples=num_samples)\n",
    "mcmc.run(\n",
    "    rng_key_,\n",
    "    num_voters_array,\n",
    "    votes_array,\n",
    ")\n",
    "mcmc.print_summary()\n",
    "samples_basic_batched = mcmc.get_samples()"
   ]
  },
  {
   "cell_type": "code",
   "execution_count": 40,
   "metadata": {},
   "outputs": [
    {
     "data": {
      "text/plain": [
       "Array([0.01962846, 0.00489824, 0.        , 0.        , 0.00205135,\n",
       "       0.00728431, 0.00260642, 0.        , 0.        ], dtype=float32)"
      ]
     },
     "execution_count": 40,
     "metadata": {},
     "output_type": "execute_result"
    }
   ],
   "source": [
    "get_pivot_odds(samples_basic_batched[\"p\"], num_voters_array)"
   ]
  },
  {
   "cell_type": "code",
   "execution_count": 68,
   "metadata": {},
   "outputs": [],
   "source": [
    "def model_C2_batched(num_voters_array=None, votes_array=None):\n",
    "    p_sigma = numpyro.sample(\"p_sigma\", dist.Exponential(rate=1.0))\n",
    "    p_mu = numpyro.sample(\"p_mu\", dist.Beta(4, 4))\n",
    "    with numpyro.plate(\"election\", len(num_voters_array)) as ind:\n",
    "        p = numpyro.sample(\"p\", dist.BetaProportion(p_mu, p_sigma))\n",
    "        votes = votes_array[ind] if votes_array is not None else None\n",
    "        numpyro.sample(\n",
    "            \"observed_votes\",\n",
    "            dist.Binomial(total_count=num_voters_array[ind], probs=p),\n",
    "            obs=votes,\n",
    "        )"
   ]
  },
  {
   "cell_type": "code",
   "execution_count": 69,
   "metadata": {},
   "outputs": [
    {
     "name": "stderr",
     "output_type": "stream",
     "text": [
      "  0%|          | 0/3000 [00:00<?, ?it/s]"
     ]
    },
    {
     "name": "stderr",
     "output_type": "stream",
     "text": [
      "sample: 100%|██████████| 3000/3000 [00:09<00:00, 307.02it/s, 7 steps of size 6.33e-01. acc. prob=0.90]\n"
     ]
    },
    {
     "name": "stdout",
     "output_type": "stream",
     "text": [
      "\n",
      "                mean       std    median      5.0%     95.0%     n_eff     r_hat\n",
      "      p[0]      0.50      0.01      0.50      0.48      0.53   4805.86      1.00\n",
      "      p[1]      0.52      0.01      0.52      0.50      0.54   4597.42      1.00\n",
      "      p[2]      0.85      0.00      0.85      0.84      0.85   3599.81      1.00\n",
      "      p[3]      0.55      0.01      0.55      0.54      0.56   4964.40      1.00\n",
      "      p[4]      0.53      0.01      0.53      0.51      0.54   4311.79      1.00\n",
      "      p[5]      0.53      0.02      0.53      0.50      0.56   3961.47      1.00\n",
      "      p[6]      0.52      0.01      0.53      0.51      0.54   3585.15      1.00\n",
      "      p[7]      0.59      0.01      0.59      0.58      0.60   3039.09      1.00\n",
      "      p[8]      0.63      0.01      0.63      0.62      0.64   3236.37      1.00\n",
      "      p_mu      0.56      0.07      0.56      0.45      0.67   5317.44      1.00\n",
      "   p_sigma      4.56      1.81      4.29      1.69      7.18   3151.02      1.00\n",
      "\n",
      "Number of divergences: 0\n"
     ]
    }
   ],
   "source": [
    "# Run NUTS.\n",
    "kernel = NUTS(model_C2_batched)\n",
    "num_samples = 2_000\n",
    "mcmc = MCMC(kernel, num_warmup=1000, num_samples=num_samples)\n",
    "mcmc.run(\n",
    "    rng_key_,\n",
    "    num_voters_array,\n",
    "    votes_array,\n",
    ")\n",
    "mcmc.print_summary()\n",
    "samples_C1_batched = mcmc.get_samples()"
   ]
  },
  {
   "cell_type": "code",
   "execution_count": 83,
   "metadata": {},
   "outputs": [
    {
     "data": {
      "text/plain": [
       "Array([1.4045492], dtype=float32)"
      ]
     },
     "execution_count": 83,
     "metadata": {},
     "output_type": "execute_result"
    }
   ],
   "source": [
    "p_mu = samples_C1_batched[\"p_mu\"]\n",
    "p_sigma = samples_C1_batched[\"p_sigma\"]\n",
    "jax.scipy.stats.gaussian_kde(dist.BetaProportion(p_mu, p_sigma).sample(rng_key))(0.5)"
   ]
  }
 ],
 "metadata": {
  "kernelspec": {
   "display_name": "pystats",
   "language": "python",
   "name": "python3"
  },
  "language_info": {
   "codemirror_mode": {
    "name": "ipython",
    "version": 3
   },
   "file_extension": ".py",
   "mimetype": "text/x-python",
   "name": "python",
   "nbconvert_exporter": "python",
   "pygments_lexer": "ipython3",
   "version": "3.12.0"
  }
 },
 "nbformat": 4,
 "nbformat_minor": 2
}
