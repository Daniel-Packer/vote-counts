{
 "cells": [
  {
   "cell_type": "code",
   "execution_count": 1,
   "metadata": {},
   "outputs": [
    {
     "name": "stdout",
     "output_type": "stream",
     "text": [
      "/cis/home/dpacker/my_documents/vote-counts\n"
     ]
    }
   ],
   "source": [
    "%load_ext autoreload\n",
    "%autoreload 2\n",
    "%cd .."
   ]
  },
  {
   "cell_type": "code",
   "execution_count": 2,
   "metadata": {},
   "outputs": [],
   "source": [
    "import pandas as pd\n",
    "from pathlib import Path\n",
    "import numpyro\n",
    "import jax\n",
    "from numpyro import distributions as dist\n",
    "from numpyro.infer import NUTS, MCMC, Predictive\n",
    "from jax import random, numpy as jnp\n",
    "import matplotlib.pyplot as plt\n",
    "import seaborn as sns\n",
    "import os\n",
    "from numpyro.contrib.funsor import config_enumerate, infer_discrete\n",
    "from src import preprocessing\n",
    "from scipy.stats import gaussian_kde\n",
    "\n",
    "os.environ['CUDA_VISIBLE_DEVICES'] = '3'\n",
    "\n",
    "path_data = Path(\"data\")\n",
    "path_raw_data = path_data / \"raw_data\""
   ]
  },
  {
   "cell_type": "code",
   "execution_count": 3,
   "metadata": {},
   "outputs": [
    {
     "name": "stderr",
     "output_type": "stream",
     "text": [
      "/tmp/ipykernel_1009642/3180180344.py:1: DtypeWarning: Columns (2,3,11) have mixed types. Specify dtype option on import or set low_memory=False.\n",
      "  raw_data = pd.read_csv(path_raw_data / \"Local_2018.csv\")\n"
     ]
    }
   ],
   "source": [
    "raw_data = pd.read_csv(path_raw_data / \"Local_2018.csv\")\n",
    "data = preprocessing.preprocess(raw_data)\n",
    "elections_dict = preprocessing.get_elections_dict(data)"
   ]
  },
  {
   "cell_type": "code",
   "execution_count": 11,
   "metadata": {},
   "outputs": [],
   "source": [
    "county_ids = list(elections_dict.keys())\n",
    "example_county_id = county_ids[400]\n",
    "example_county_elections = elections_dict[example_county_id]\n",
    "top_two_elections = {}\n",
    "for election_id, election in example_county_elections.items():\n",
    "    top_two_elections[election_id] = election.sort_values(by = \"votes\", ascending=False).iloc[:2]"
   ]
  },
  {
   "cell_type": "code",
   "execution_count": 27,
   "metadata": {},
   "outputs": [],
   "source": [
    "def model_basic(num_voters=None, votes=None):\n",
    "    p = numpyro.sample(\"p\", dist.Beta(4, 4))\n",
    "    numpyro.sample(\n",
    "        \"observed_votes\", dist.Binomial(total_count=num_voters, probs=p), obs=votes\n",
    "    )"
   ]
  },
  {
   "cell_type": "code",
   "execution_count": 28,
   "metadata": {},
   "outputs": [],
   "source": [
    "ex_election = top_two_elections[\"CITY COUNCIL - COLUMBIA\"]\n",
    "num_voters = ex_election[\"votes\"].sum()\n",
    "votes_0 = ex_election.iloc[0][\"votes\"]"
   ]
  },
  {
   "cell_type": "code",
   "execution_count": 29,
   "metadata": {},
   "outputs": [
    {
     "name": "stderr",
     "output_type": "stream",
     "text": [
      "sample: 100%|██████████| 3000/3000 [00:04<00:00, 656.16it/s, 1 steps of size 1.06e+00. acc. prob=0.93]"
     ]
    },
    {
     "name": "stdout",
     "output_type": "stream",
     "text": [
      "\n",
      "                mean       std    median      5.0%     95.0%     n_eff     r_hat\n",
      "         p      0.50      0.01      0.50      0.48      0.52    581.12      1.00\n",
      "\n",
      "Number of divergences: 0\n"
     ]
    },
    {
     "name": "stderr",
     "output_type": "stream",
     "text": [
      "\n"
     ]
    }
   ],
   "source": [
    "# Start from this source of randomness. We will split keys for subsequent operations.\n",
    "rng_key = random.PRNGKey(0)\n",
    "rng_key, rng_key_ = random.split(rng_key)\n",
    "\n",
    "# Run NUTS.\n",
    "kernel = NUTS(model_basic)\n",
    "num_samples = 2_000\n",
    "mcmc = MCMC(kernel, num_warmup=1000, num_samples=num_samples)\n",
    "mcmc.run(\n",
    "    rng_key_,\n",
    "    num_voters = num_voters,\n",
    "    votes = votes_0\n",
    ")\n",
    "mcmc.print_summary()\n",
    "samples_basic = mcmc.get_samples()"
   ]
  },
  {
   "cell_type": "code",
   "execution_count": 49,
   "metadata": {},
   "outputs": [],
   "source": [
    "def model_basic_batched(num_voters_array=None, votes_array=None):\n",
    "    # with numpyro.plate(\"election\", len(num_voters_array)) as ind:\n",
    "    p = numpyro.sample(\"p\", dist.Beta(jnp.full(len(num_voters_array), 4), jnp.full(len(num_voters_array), 4)))\n",
    "    numpyro.sample(\n",
    "        \"observed_votes\",\n",
    "        dist.Binomial(total_count=num_voters, probs=p),\n",
    "        obs=votes_array,\n",
    "    )"
   ]
  },
  {
   "cell_type": "code",
   "execution_count": 50,
   "metadata": {},
   "outputs": [],
   "source": [
    "num_voters_list = []\n",
    "votes_list = []\n",
    "for key, election in top_two_elections.items():\n",
    "    num_voters_list.append(election[\"votes\"].sum())\n",
    "    votes_list.append(election.iloc[0][\"votes\"])"
   ]
  },
  {
   "cell_type": "code",
   "execution_count": 51,
   "metadata": {},
   "outputs": [
    {
     "name": "stderr",
     "output_type": "stream",
     "text": [
      "/tmp/ipykernel_1009642/619616848.py:5: UserWarning: Site observed_votes: Out-of-support values provided to log prob method. The value argument should be within the support.\n",
      "  mcmc.run(\n"
     ]
    },
    {
     "ename": "RuntimeError",
     "evalue": "Cannot find valid initial parameters. Please check your model again.",
     "output_type": "error",
     "traceback": [
      "\u001b[0;31m---------------------------------------------------------------------------\u001b[0m",
      "\u001b[0;31mRuntimeError\u001b[0m                              Traceback (most recent call last)",
      "Cell \u001b[0;32mIn[51], line 5\u001b[0m\n\u001b[1;32m      3\u001b[0m num_samples \u001b[39m=\u001b[39m \u001b[39m2_000\u001b[39m\n\u001b[1;32m      4\u001b[0m mcmc \u001b[39m=\u001b[39m MCMC(kernel, num_warmup\u001b[39m=\u001b[39m\u001b[39m1000\u001b[39m, num_samples\u001b[39m=\u001b[39mnum_samples)\n\u001b[0;32m----> 5\u001b[0m mcmc\u001b[39m.\u001b[39;49mrun(\n\u001b[1;32m      6\u001b[0m     rng_key_,\n\u001b[1;32m      7\u001b[0m     jnp\u001b[39m.\u001b[39;49marray(num_voters_list),\n\u001b[1;32m      8\u001b[0m     jnp\u001b[39m.\u001b[39;49marray(votes_list)\n\u001b[1;32m      9\u001b[0m )\n\u001b[1;32m     10\u001b[0m mcmc\u001b[39m.\u001b[39mprint_summary()\n\u001b[1;32m     11\u001b[0m samples_basic \u001b[39m=\u001b[39m mcmc\u001b[39m.\u001b[39mget_samples()\n",
      "File \u001b[0;32m~/mambaforge/envs/pystats/lib/python3.12/site-packages/numpyro/infer/mcmc.py:634\u001b[0m, in \u001b[0;36mMCMC.run\u001b[0;34m(self, rng_key, extra_fields, init_params, *args, **kwargs)\u001b[0m\n\u001b[1;32m    632\u001b[0m map_args \u001b[39m=\u001b[39m (rng_key, init_state, init_params)\n\u001b[1;32m    633\u001b[0m \u001b[39mif\u001b[39;00m \u001b[39mself\u001b[39m\u001b[39m.\u001b[39mnum_chains \u001b[39m==\u001b[39m \u001b[39m1\u001b[39m:\n\u001b[0;32m--> 634\u001b[0m     states_flat, last_state \u001b[39m=\u001b[39m partial_map_fn(map_args)\n\u001b[1;32m    635\u001b[0m     states \u001b[39m=\u001b[39m tree_map(\u001b[39mlambda\u001b[39;00m x: x[jnp\u001b[39m.\u001b[39mnewaxis, \u001b[39m.\u001b[39m\u001b[39m.\u001b[39m\u001b[39m.\u001b[39m], states_flat)\n\u001b[1;32m    636\u001b[0m \u001b[39melse\u001b[39;00m:\n",
      "File \u001b[0;32m~/mambaforge/envs/pystats/lib/python3.12/site-packages/numpyro/infer/mcmc.py:416\u001b[0m, in \u001b[0;36mMCMC._single_chain_mcmc\u001b[0;34m(self, init, args, kwargs, collect_fields)\u001b[0m\n\u001b[1;32m    414\u001b[0m \u001b[39m# Check if _sample_fn is None, then we need to initialize the sampler.\u001b[39;00m\n\u001b[1;32m    415\u001b[0m \u001b[39mif\u001b[39;00m init_state \u001b[39mis\u001b[39;00m \u001b[39mNone\u001b[39;00m \u001b[39mor\u001b[39;00m (\u001b[39mgetattr\u001b[39m(\u001b[39mself\u001b[39m\u001b[39m.\u001b[39msampler, \u001b[39m\"\u001b[39m\u001b[39m_sample_fn\u001b[39m\u001b[39m\"\u001b[39m, \u001b[39mNone\u001b[39;00m) \u001b[39mis\u001b[39;00m \u001b[39mNone\u001b[39;00m):\n\u001b[0;32m--> 416\u001b[0m     new_init_state \u001b[39m=\u001b[39m \u001b[39mself\u001b[39;49m\u001b[39m.\u001b[39;49msampler\u001b[39m.\u001b[39;49minit(\n\u001b[1;32m    417\u001b[0m         rng_key,\n\u001b[1;32m    418\u001b[0m         \u001b[39mself\u001b[39;49m\u001b[39m.\u001b[39;49mnum_warmup,\n\u001b[1;32m    419\u001b[0m         init_params,\n\u001b[1;32m    420\u001b[0m         model_args\u001b[39m=\u001b[39;49margs,\n\u001b[1;32m    421\u001b[0m         model_kwargs\u001b[39m=\u001b[39;49mkwargs,\n\u001b[1;32m    422\u001b[0m     )\n\u001b[1;32m    423\u001b[0m     init_state \u001b[39m=\u001b[39m new_init_state \u001b[39mif\u001b[39;00m init_state \u001b[39mis\u001b[39;00m \u001b[39mNone\u001b[39;00m \u001b[39melse\u001b[39;00m init_state\n\u001b[1;32m    424\u001b[0m sample_fn, postprocess_fn \u001b[39m=\u001b[39m \u001b[39mself\u001b[39m\u001b[39m.\u001b[39m_get_cached_fns()\n",
      "File \u001b[0;32m~/mambaforge/envs/pystats/lib/python3.12/site-packages/numpyro/infer/hmc.py:713\u001b[0m, in \u001b[0;36mHMC.init\u001b[0;34m(self, rng_key, num_warmup, init_params, model_args, model_kwargs)\u001b[0m\n\u001b[1;32m    708\u001b[0m \u001b[39m# vectorized\u001b[39;00m\n\u001b[1;32m    709\u001b[0m \u001b[39melse\u001b[39;00m:\n\u001b[1;32m    710\u001b[0m     rng_key, rng_key_init_model \u001b[39m=\u001b[39m jnp\u001b[39m.\u001b[39mswapaxes(\n\u001b[1;32m    711\u001b[0m         vmap(random\u001b[39m.\u001b[39msplit)(rng_key), \u001b[39m0\u001b[39m, \u001b[39m1\u001b[39m\n\u001b[1;32m    712\u001b[0m     )\n\u001b[0;32m--> 713\u001b[0m init_params \u001b[39m=\u001b[39m \u001b[39mself\u001b[39;49m\u001b[39m.\u001b[39;49m_init_state(\n\u001b[1;32m    714\u001b[0m     rng_key_init_model, model_args, model_kwargs, init_params\n\u001b[1;32m    715\u001b[0m )\n\u001b[1;32m    716\u001b[0m \u001b[39mif\u001b[39;00m \u001b[39mself\u001b[39m\u001b[39m.\u001b[39m_potential_fn \u001b[39mand\u001b[39;00m init_params \u001b[39mis\u001b[39;00m \u001b[39mNone\u001b[39;00m:\n\u001b[1;32m    717\u001b[0m     \u001b[39mraise\u001b[39;00m \u001b[39mValueError\u001b[39;00m(\n\u001b[1;32m    718\u001b[0m         \u001b[39m\"\u001b[39m\u001b[39mValid value of `init_params` must be provided with\u001b[39m\u001b[39m\"\u001b[39m \u001b[39m\"\u001b[39m\u001b[39m `potential_fn`.\u001b[39m\u001b[39m\"\u001b[39m\n\u001b[1;32m    719\u001b[0m     )\n",
      "File \u001b[0;32m~/mambaforge/envs/pystats/lib/python3.12/site-packages/numpyro/infer/hmc.py:657\u001b[0m, in \u001b[0;36mHMC._init_state\u001b[0;34m(self, rng_key, model_args, model_kwargs, init_params)\u001b[0m\n\u001b[1;32m    650\u001b[0m \u001b[39mdef\u001b[39;00m \u001b[39m_init_state\u001b[39m(\u001b[39mself\u001b[39m, rng_key, model_args, model_kwargs, init_params):\n\u001b[1;32m    651\u001b[0m     \u001b[39mif\u001b[39;00m \u001b[39mself\u001b[39m\u001b[39m.\u001b[39m_model \u001b[39mis\u001b[39;00m \u001b[39mnot\u001b[39;00m \u001b[39mNone\u001b[39;00m:\n\u001b[1;32m    652\u001b[0m         (\n\u001b[1;32m    653\u001b[0m             new_init_params,\n\u001b[1;32m    654\u001b[0m             potential_fn,\n\u001b[1;32m    655\u001b[0m             postprocess_fn,\n\u001b[1;32m    656\u001b[0m             model_trace,\n\u001b[0;32m--> 657\u001b[0m         ) \u001b[39m=\u001b[39m initialize_model(\n\u001b[1;32m    658\u001b[0m             rng_key,\n\u001b[1;32m    659\u001b[0m             \u001b[39mself\u001b[39;49m\u001b[39m.\u001b[39;49m_model,\n\u001b[1;32m    660\u001b[0m             dynamic_args\u001b[39m=\u001b[39;49m\u001b[39mTrue\u001b[39;49;00m,\n\u001b[1;32m    661\u001b[0m             init_strategy\u001b[39m=\u001b[39;49m\u001b[39mself\u001b[39;49m\u001b[39m.\u001b[39;49m_init_strategy,\n\u001b[1;32m    662\u001b[0m             model_args\u001b[39m=\u001b[39;49mmodel_args,\n\u001b[1;32m    663\u001b[0m             model_kwargs\u001b[39m=\u001b[39;49mmodel_kwargs,\n\u001b[1;32m    664\u001b[0m             forward_mode_differentiation\u001b[39m=\u001b[39;49m\u001b[39mself\u001b[39;49m\u001b[39m.\u001b[39;49m_forward_mode_differentiation,\n\u001b[1;32m    665\u001b[0m         )\n\u001b[1;32m    666\u001b[0m         \u001b[39mif\u001b[39;00m init_params \u001b[39mis\u001b[39;00m \u001b[39mNone\u001b[39;00m:\n\u001b[1;32m    667\u001b[0m             init_params \u001b[39m=\u001b[39m new_init_params\n",
      "File \u001b[0;32m~/mambaforge/envs/pystats/lib/python3.12/site-packages/numpyro/infer/util.py:748\u001b[0m, in \u001b[0;36minitialize_model\u001b[0;34m(rng_key, model, init_strategy, dynamic_args, model_args, model_kwargs, forward_mode_differentiation, validate_grad)\u001b[0m\n\u001b[1;32m    735\u001b[0m                             w\u001b[39m.\u001b[39mmessage\u001b[39m.\u001b[39margs \u001b[39m=\u001b[39m (\n\u001b[1;32m    736\u001b[0m                                 \u001b[39m\"\u001b[39m\u001b[39mSite \u001b[39m\u001b[39m{}\u001b[39;00m\u001b[39m: \u001b[39m\u001b[39m{}\u001b[39;00m\u001b[39m\"\u001b[39m\u001b[39m.\u001b[39mformat(\n\u001b[1;32m    737\u001b[0m                                     site[\u001b[39m\"\u001b[39m\u001b[39mname\u001b[39m\u001b[39m\"\u001b[39m], w\u001b[39m.\u001b[39mmessage\u001b[39m.\u001b[39margs[\u001b[39m0\u001b[39m]\n\u001b[1;32m    738\u001b[0m                                 ),\n\u001b[1;32m    739\u001b[0m                             ) \u001b[39m+\u001b[39m w\u001b[39m.\u001b[39mmessage\u001b[39m.\u001b[39margs[\u001b[39m1\u001b[39m:]\n\u001b[1;32m    740\u001b[0m                             warnings\u001b[39m.\u001b[39mshowwarning(\n\u001b[1;32m    741\u001b[0m                                 w\u001b[39m.\u001b[39mmessage,\n\u001b[1;32m    742\u001b[0m                                 w\u001b[39m.\u001b[39mcategory,\n\u001b[0;32m   (...)\u001b[0m\n\u001b[1;32m    746\u001b[0m                                 line\u001b[39m=\u001b[39mw\u001b[39m.\u001b[39mline,\n\u001b[1;32m    747\u001b[0m                             )\n\u001b[0;32m--> 748\u001b[0m         \u001b[39mraise\u001b[39;00m \u001b[39mRuntimeError\u001b[39;00m(\n\u001b[1;32m    749\u001b[0m             \u001b[39m\"\u001b[39m\u001b[39mCannot find valid initial parameters. Please check your model again.\u001b[39m\u001b[39m\"\u001b[39m\n\u001b[1;32m    750\u001b[0m         )\n\u001b[1;32m    751\u001b[0m \u001b[39mreturn\u001b[39;00m ModelInfo(\n\u001b[1;32m    752\u001b[0m     ParamInfo(init_params, pe, grad), potential_fn, postprocess_fn, model_trace\n\u001b[1;32m    753\u001b[0m )\n",
      "\u001b[0;31mRuntimeError\u001b[0m: Cannot find valid initial parameters. Please check your model again."
     ]
    }
   ],
   "source": [
    "# Run NUTS.\n",
    "kernel = NUTS(model_basic_batched)\n",
    "num_samples = 2_000\n",
    "mcmc = MCMC(kernel, num_warmup=1000, num_samples=num_samples)\n",
    "mcmc.run(\n",
    "    rng_key_,\n",
    "    jnp.array(num_voters_list),\n",
    "    jnp.array(votes_list)\n",
    ")\n",
    "mcmc.print_summary()\n",
    "samples_basic = mcmc.get_samples()"
   ]
  },
  {
   "cell_type": "code",
   "execution_count": 37,
   "metadata": {},
   "outputs": [
    {
     "data": {
      "text/plain": [
       "array([0.02034278])"
      ]
     },
     "execution_count": 37,
     "metadata": {},
     "output_type": "execute_result"
    }
   ],
   "source": [
    "gaussian_kde(samples_basic[\"p\"])(0.5) / (num_voters + 1)"
   ]
  }
 ],
 "metadata": {
  "kernelspec": {
   "display_name": "pystats",
   "language": "python",
   "name": "python3"
  },
  "language_info": {
   "codemirror_mode": {
    "name": "ipython",
    "version": 3
   },
   "file_extension": ".py",
   "mimetype": "text/x-python",
   "name": "python",
   "nbconvert_exporter": "python",
   "pygments_lexer": "ipython3",
   "version": "3.12.0"
  }
 },
 "nbformat": 4,
 "nbformat_minor": 2
}
