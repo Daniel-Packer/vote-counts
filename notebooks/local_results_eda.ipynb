{
 "cells": [
  {
   "cell_type": "code",
   "execution_count": 1,
   "metadata": {},
   "outputs": [
    {
     "name": "stdout",
     "output_type": "stream",
     "text": [
      "/cis/home/dpacker/my_documents/vote-counts\n"
     ]
    }
   ],
   "source": [
    "%load_ext autoreload\n",
    "%autoreload 2\n",
    "%cd .."
   ]
  },
  {
   "cell_type": "code",
   "execution_count": 3,
   "metadata": {},
   "outputs": [],
   "source": [
    "import pandas as pd\n",
    "from pathlib import Path\n",
    "import numpyro\n",
    "from numpyro import distributions as dist\n",
    "from numpyro.infer import NUTS, MCMC, Predictive\n",
    "from jax import random, numpy as jnp\n",
    "import matplotlib.pyplot as plt\n",
    "import seaborn as sns\n",
    "import os\n",
    "from numpyro.contrib.funsor import config_enumerate, infer_discrete\n",
    "from src import preprocessing\n",
    "\n",
    "os.environ['CUDA_VISIBLE_DEVICES'] = '3'\n",
    "\n",
    "path_data = Path(\"data\")\n",
    "path_raw_data = path_data / \"raw_data\""
   ]
  },
  {
   "cell_type": "code",
   "execution_count": 22,
   "metadata": {},
   "outputs": [],
   "source": [
    "# raw_data = pd.read_csv(path_raw_data / \"LOCAL_precinct_general.csv\")\n",
    "data = preprocessing.preprocess(raw_data)"
   ]
  },
  {
   "cell_type": "code",
   "execution_count": 23,
   "metadata": {},
   "outputs": [],
   "source": [
    "election_df = data.groupby([\"precinct\", \"office\", \"candidate\"]).sum(\"votes\")"
   ]
  },
  {
   "cell_type": "code",
   "execution_count": 25,
   "metadata": {},
   "outputs": [
    {
     "data": {
      "text/plain": [
       "candidate\n",
       "UNDERVOTES             143894\n",
       "OVERVOTES              135409\n",
       "YES                     93916\n",
       "NO                      89787\n",
       "TIMES BLANK VOTED        9230\n",
       "MAINTAINED               7264\n",
       "REPEALED                 7264\n",
       "DANA NESSEL              5082\n",
       "LISA LANE GIOIA          5082\n",
       "GERALD T VAN SICKLE      5082\n",
       "Name: count, dtype: int64"
      ]
     },
     "execution_count": 25,
     "metadata": {},
     "output_type": "execute_result"
    }
   ],
   "source": [
    "# data.groupby([\"county_fips\", \"office\", \"candidate\"]).sum(numeric_only=True)[[\"votes\"]]\n",
    "data[\"candidate\"].value_counts().iloc[:10]"
   ]
  },
  {
   "cell_type": "code",
   "execution_count": null,
   "metadata": {},
   "outputs": [],
   "source": []
  }
 ],
 "metadata": {
  "kernelspec": {
   "display_name": "pystats",
   "language": "python",
   "name": "python3"
  },
  "language_info": {
   "codemirror_mode": {
    "name": "ipython",
    "version": 3
   },
   "file_extension": ".py",
   "mimetype": "text/x-python",
   "name": "python",
   "nbconvert_exporter": "python",
   "pygments_lexer": "ipython3",
   "version": "3.12.0"
  }
 },
 "nbformat": 4,
 "nbformat_minor": 2
}
