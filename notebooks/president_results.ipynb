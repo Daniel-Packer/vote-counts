{
 "cells": [
  {
   "cell_type": "code",
   "execution_count": 1,
   "metadata": {},
   "outputs": [
    {
     "name": "stdout",
     "output_type": "stream",
     "text": [
      "/home/packer.61/Documents/vote-counts\n"
     ]
    }
   ],
   "source": [
    "%load_ext autoreload\n",
    "%autoreload 2\n",
    "%cd .."
   ]
  },
  {
   "cell_type": "code",
   "execution_count": 36,
   "metadata": {},
   "outputs": [],
   "source": [
    "import pandas as pd\n",
    "from pathlib import Path\n",
    "import numpyro\n",
    "from numpyro import distributions as dist\n",
    "from numpyro.infer import NUTS, MCMC, Predictive\n",
    "from jax import random, numpy as jnp\n",
    "import matplotlib.pyplot as plt\n",
    "import seaborn as sns\n",
    "import os\n",
    "from scipy import stats\n",
    "from src import preprocessing\n",
    "import numpy as np\n",
    "\n",
    "os.environ['CUDA_VISIBLE_DEVICES'] = '3'\n",
    "\n",
    "path_data = Path(\"data\")\n",
    "path_raw_data = path_data / \"raw_data\""
   ]
  },
  {
   "cell_type": "code",
   "execution_count": 42,
   "metadata": {},
   "outputs": [],
   "source": [
    "def get_pivot_odds(df):\n",
    "    for ind, row in df.iterrows():\n",
    "        mean_p = row[\"p_democrat\"]\n",
    "        std_p = row[\"std_p_democrat\"]\n",
    "        df.loc[ind, \"p_05\"] = stats.t.pdf(0.5, 4, loc=mean_p, scale=std_p)\n",
    "\n",
    "        \n",
    "    df[\"pivot_odds\"] = df[\"p_05\"] / df[\"total_votes\"]\n",
    "    df[\"log_pivot_odds\"] = np.log(df[\"p_05\"] / df[\"total_votes\"])\n",
    "    return df"
   ]
  },
  {
   "cell_type": "code",
   "execution_count": 25,
   "metadata": {},
   "outputs": [
    {
     "name": "stderr",
     "output_type": "stream",
     "text": [
      "/tmp/ipykernel_21593/1280772690.py:1: DtypeWarning: Columns (0) have mixed types. Specify dtype option on import or set low_memory=False.\n",
      "  raw_data = pd.read_csv(path_raw_data / \"President_2020.csv\")\n"
     ]
    }
   ],
   "source": [
    "raw_data = pd.read_csv(path_raw_data / \"President_2020.csv\")\n",
    "raw_data[\"party_simplified\"] = raw_data[\"party_simplified\"].astype(str)\n",
    "raw_data[\"jurisdiction_fips\"] = raw_data[\"jurisdiction_fips\"].dropna().astype(int)\n",
    "raw_data = raw_data.query(\"party_simplified == 'REPUBLICAN' or party_simplified == 'DEMOCRAT'\")"
   ]
  },
  {
   "cell_type": "code",
   "execution_count": 43,
   "metadata": {},
   "outputs": [],
   "source": [
    "groupby = [\"jurisdiction_fips\", \"party_simplified\"]\n",
    "partisan_votes_by_jurisdiction = (\n",
    "    raw_data[[*groupby, \"votes\"]]\n",
    "    .groupby(groupby)\n",
    "    .sum()\n",
    "    .reset_index()\n",
    "    .pivot_table(values=\"votes\", columns=\"party_simplified\", index=\"jurisdiction_fips\")\n",
    ")\n",
    "partisan_votes_by_jurisdiction[\"total_votes\"] = (\n",
    "    partisan_votes_by_jurisdiction[\"DEMOCRAT\"]\n",
    "    + partisan_votes_by_jurisdiction[\"REPUBLICAN\"]\n",
    ")\n",
    "partisan_votes_by_jurisdiction[\"p_democrat\"] = (\n",
    "    partisan_votes_by_jurisdiction[\"DEMOCRAT\"]\n",
    "    / partisan_votes_by_jurisdiction[\"total_votes\"]\n",
    ")\n",
    "\n",
    "# Setting a fixed std, should be determined by samples\n",
    "std = 0.04\n",
    "partisan_votes_by_jurisdiction[\"std_p_democrat\"] = std"
   ]
  },
  {
   "cell_type": "code",
   "execution_count": 45,
   "metadata": {},
   "outputs": [
    {
     "name": "stderr",
     "output_type": "stream",
     "text": [
      "/home/packer.61/mambaforge/envs/pystats/lib/python3.10/site-packages/pandas/core/arraylike.py:396: RuntimeWarning: invalid value encountered in log\n",
      "  result = getattr(ufunc, method)(*inputs, **kwargs)\n"
     ]
    }
   ],
   "source": [
    "partisan_votes_by_jurisdiction = get_pivot_odds(partisan_votes_by_jurisdiction)"
   ]
  },
  {
   "cell_type": "code",
   "execution_count": 55,
   "metadata": {},
   "outputs": [],
   "source": [
    "to_save = partisan_votes_by_jurisdiction[[\"pivot_odds\", \"log_pivot_odds\"]]\n",
    "to_save.index = to_save.index.astype(int).to_series().apply(lambda i : str(i).zfill(5))\n",
    "to_save.to_csv(path_data / \"partisan_county_pivot_odds.csv\")"
   ]
  },
  {
   "cell_type": "code",
   "execution_count": 54,
   "metadata": {},
   "outputs": [
    {
     "data": {
      "text/plain": [
       "jurisdiction_fips\n",
       "1001               01001\n",
       "1003               01003\n",
       "1005               01005\n",
       "1007               01007\n",
       "1009               01009\n",
       "                 ...    \n",
       "5514173475    5514173475\n",
       "5514173900    5514173900\n",
       "5514182650    5514182650\n",
       "5514188200    5514188200\n",
       "5514188575    5514188575\n",
       "Name: jurisdiction_fips, Length: 7935, dtype: object"
      ]
     },
     "execution_count": 54,
     "metadata": {},
     "output_type": "execute_result"
    }
   ],
   "source": [
    "to_save.index.to_series().apply(lambda i: str(i).zfill(5))"
   ]
  }
 ],
 "metadata": {
  "kernelspec": {
   "display_name": "pystats",
   "language": "python",
   "name": "python3"
  },
  "language_info": {
   "codemirror_mode": {
    "name": "ipython",
    "version": 3
   },
   "file_extension": ".py",
   "mimetype": "text/x-python",
   "name": "python",
   "nbconvert_exporter": "python",
   "pygments_lexer": "ipython3",
   "version": "3.10.12"
  }
 },
 "nbformat": 4,
 "nbformat_minor": 2
}
