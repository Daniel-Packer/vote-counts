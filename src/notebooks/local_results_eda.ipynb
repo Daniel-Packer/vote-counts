{
 "cells": [
  {
   "cell_type": "code",
   "execution_count": 1,
   "metadata": {},
   "outputs": [
    {
     "name": "stdout",
     "output_type": "stream",
     "text": [
      "/home/daniel/Documents/vote-counts/src\n",
      "/home/daniel/Documents/vote-counts\n"
     ]
    }
   ],
   "source": [
    "%load_ext autoreload\n",
    "%autoreload 2\n",
    "%cd ..\n",
    "%cd .."
   ]
  },
  {
   "cell_type": "code",
   "execution_count": 2,
   "metadata": {},
   "outputs": [],
   "source": [
    "import pandas as pd\n",
    "from pathlib import Path\n",
    "import numpyro\n",
    "from numpyro import distributions as dist\n",
    "from numpyro.infer import NUTS, MCMC, Predictive\n",
    "from jax import random, numpy as jnp\n",
    "import matplotlib.pyplot as plt\n",
    "import seaborn as sns\n",
    "\n",
    "path_data = Path(\"data\")\n",
    "path_raw_data = path_data / \"raw_data\""
   ]
  },
  {
   "cell_type": "code",
   "execution_count": 3,
   "metadata": {},
   "outputs": [
    {
     "name": "stderr",
     "output_type": "stream",
     "text": [
      "/tmp/ipykernel_755833/2543796059.py:1: DtypeWarning: Columns (2,3,11) have mixed types. Specify dtype option on import or set low_memory=False.\n",
      "  data = pd.read_csv(path_raw_data / \"LOCAL_precinct_general.csv\")\n"
     ]
    }
   ],
   "source": [
    "data = pd.read_csv(path_raw_data / \"LOCAL_precinct_general.csv\")"
   ]
  },
  {
   "cell_type": "code",
   "execution_count": 4,
   "metadata": {},
   "outputs": [
    {
     "data": {
      "text/html": [
       "<div>\n",
       "<style scoped>\n",
       "    .dataframe tbody tr th:only-of-type {\n",
       "        vertical-align: middle;\n",
       "    }\n",
       "\n",
       "    .dataframe tbody tr th {\n",
       "        vertical-align: top;\n",
       "    }\n",
       "\n",
       "    .dataframe thead th {\n",
       "        text-align: right;\n",
       "    }\n",
       "</style>\n",
       "<table border=\"1\" class=\"dataframe\">\n",
       "  <thead>\n",
       "    <tr style=\"text-align: right;\">\n",
       "      <th></th>\n",
       "      <th></th>\n",
       "      <th></th>\n",
       "      <th>votes</th>\n",
       "      <th>county_fips</th>\n",
       "      <th>jurisdiction_fips</th>\n",
       "      <th>magnitude</th>\n",
       "      <th>year</th>\n",
       "      <th>special</th>\n",
       "      <th>writein</th>\n",
       "      <th>state_fips</th>\n",
       "      <th>state_cen</th>\n",
       "      <th>state_ic</th>\n",
       "      <th>readme_check</th>\n",
       "    </tr>\n",
       "    <tr>\n",
       "      <th>precinct</th>\n",
       "      <th>office</th>\n",
       "      <th>candidate</th>\n",
       "      <th></th>\n",
       "      <th></th>\n",
       "      <th></th>\n",
       "      <th></th>\n",
       "      <th></th>\n",
       "      <th></th>\n",
       "      <th></th>\n",
       "      <th></th>\n",
       "      <th></th>\n",
       "      <th></th>\n",
       "      <th></th>\n",
       "    </tr>\n",
       "  </thead>\n",
       "  <tbody>\n",
       "    <tr>\n",
       "      <th rowspan=\"5\" valign=\"top\"># AB - CENTRAL ABSENTEE PRECINCT</th>\n",
       "      <th rowspan=\"4\" valign=\"top\">CHAIRMAN - SCHOOL BOARD</th>\n",
       "      <th>ALYSON SATTERWHITE</th>\n",
       "      <td>9283</td>\n",
       "      <td>51153</td>\n",
       "      <td>51153</td>\n",
       "      <td>1.0</td>\n",
       "      <td>2018</td>\n",
       "      <td>0</td>\n",
       "      <td>0</td>\n",
       "      <td>51</td>\n",
       "      <td>54</td>\n",
       "      <td>40</td>\n",
       "      <td>0</td>\n",
       "    </tr>\n",
       "    <tr>\n",
       "      <th>BABUR LATEEF</th>\n",
       "      <td>9963</td>\n",
       "      <td>51153</td>\n",
       "      <td>51153</td>\n",
       "      <td>1.0</td>\n",
       "      <td>2018</td>\n",
       "      <td>0</td>\n",
       "      <td>0</td>\n",
       "      <td>51</td>\n",
       "      <td>54</td>\n",
       "      <td>40</td>\n",
       "      <td>0</td>\n",
       "    </tr>\n",
       "    <tr>\n",
       "      <th>STANLEY BENDER</th>\n",
       "      <td>2178</td>\n",
       "      <td>51153</td>\n",
       "      <td>51153</td>\n",
       "      <td>1.0</td>\n",
       "      <td>2018</td>\n",
       "      <td>0</td>\n",
       "      <td>0</td>\n",
       "      <td>51</td>\n",
       "      <td>54</td>\n",
       "      <td>40</td>\n",
       "      <td>0</td>\n",
       "    </tr>\n",
       "    <tr>\n",
       "      <th>WRITEIN</th>\n",
       "      <td>243</td>\n",
       "      <td>51153</td>\n",
       "      <td>51153</td>\n",
       "      <td>1.0</td>\n",
       "      <td>2018</td>\n",
       "      <td>0</td>\n",
       "      <td>1</td>\n",
       "      <td>51</td>\n",
       "      <td>54</td>\n",
       "      <td>40</td>\n",
       "      <td>0</td>\n",
       "    </tr>\n",
       "    <tr>\n",
       "      <th>CLERK OF COURT</th>\n",
       "      <th>CHERYL EDMONDSTON</th>\n",
       "      <td>94</td>\n",
       "      <td>51029</td>\n",
       "      <td>51029</td>\n",
       "      <td>1.0</td>\n",
       "      <td>2018</td>\n",
       "      <td>0</td>\n",
       "      <td>0</td>\n",
       "      <td>51</td>\n",
       "      <td>54</td>\n",
       "      <td>40</td>\n",
       "      <td>0</td>\n",
       "    </tr>\n",
       "    <tr>\n",
       "      <th>...</th>\n",
       "      <th>...</th>\n",
       "      <th>...</th>\n",
       "      <td>...</td>\n",
       "      <td>...</td>\n",
       "      <td>...</td>\n",
       "      <td>...</td>\n",
       "      <td>...</td>\n",
       "      <td>...</td>\n",
       "      <td>...</td>\n",
       "      <td>...</td>\n",
       "      <td>...</td>\n",
       "      <td>...</td>\n",
       "      <td>...</td>\n",
       "    </tr>\n",
       "    <tr>\n",
       "      <th rowspan=\"5\" valign=\"top\">ZUMBROTA TWP.</th>\n",
       "      <th rowspan=\"2\" valign=\"top\">COUNTY SHERIFF</th>\n",
       "      <th>PAUL GIELAU</th>\n",
       "      <td>157</td>\n",
       "      <td>27049</td>\n",
       "      <td>27049</td>\n",
       "      <td>1.0</td>\n",
       "      <td>2018</td>\n",
       "      <td>0</td>\n",
       "      <td>0</td>\n",
       "      <td>27</td>\n",
       "      <td>41</td>\n",
       "      <td>33</td>\n",
       "      <td>0</td>\n",
       "    </tr>\n",
       "    <tr>\n",
       "      <th>WRITEIN</th>\n",
       "      <td>0</td>\n",
       "      <td>27049</td>\n",
       "      <td>27049</td>\n",
       "      <td>1.0</td>\n",
       "      <td>2018</td>\n",
       "      <td>0</td>\n",
       "      <td>1</td>\n",
       "      <td>27</td>\n",
       "      <td>41</td>\n",
       "      <td>33</td>\n",
       "      <td>0</td>\n",
       "    </tr>\n",
       "    <tr>\n",
       "      <th rowspan=\"3\" valign=\"top\">SOIL AND WATER SUPERVISOR</th>\n",
       "      <th>DONALD SCHLIEP</th>\n",
       "      <td>281</td>\n",
       "      <td>27049</td>\n",
       "      <td>27049</td>\n",
       "      <td>1.0</td>\n",
       "      <td>2018</td>\n",
       "      <td>0</td>\n",
       "      <td>0</td>\n",
       "      <td>27</td>\n",
       "      <td>41</td>\n",
       "      <td>33</td>\n",
       "      <td>0</td>\n",
       "    </tr>\n",
       "    <tr>\n",
       "      <th>MARK COMSTOCK</th>\n",
       "      <td>274</td>\n",
       "      <td>27049</td>\n",
       "      <td>27049</td>\n",
       "      <td>1.0</td>\n",
       "      <td>2018</td>\n",
       "      <td>0</td>\n",
       "      <td>0</td>\n",
       "      <td>27</td>\n",
       "      <td>41</td>\n",
       "      <td>33</td>\n",
       "      <td>0</td>\n",
       "    </tr>\n",
       "    <tr>\n",
       "      <th>WRITEIN</th>\n",
       "      <td>4</td>\n",
       "      <td>54098</td>\n",
       "      <td>54098</td>\n",
       "      <td>2.0</td>\n",
       "      <td>4036</td>\n",
       "      <td>0</td>\n",
       "      <td>2</td>\n",
       "      <td>54</td>\n",
       "      <td>82</td>\n",
       "      <td>66</td>\n",
       "      <td>0</td>\n",
       "    </tr>\n",
       "  </tbody>\n",
       "</table>\n",
       "<p>1253424 rows × 11 columns</p>\n",
       "</div>"
      ],
      "text/plain": [
       "                                                                               votes   \n",
       "precinct                         office                    candidate                   \n",
       "# AB - CENTRAL ABSENTEE PRECINCT CHAIRMAN - SCHOOL BOARD   ALYSON SATTERWHITE   9283  \\\n",
       "                                                           BABUR LATEEF         9963   \n",
       "                                                           STANLEY BENDER       2178   \n",
       "                                                           WRITEIN               243   \n",
       "                                 CLERK OF COURT            CHERYL EDMONDSTON      94   \n",
       "...                                                                              ...   \n",
       "ZUMBROTA TWP.                    COUNTY SHERIFF            PAUL GIELAU           157   \n",
       "                                                           WRITEIN                 0   \n",
       "                                 SOIL AND WATER SUPERVISOR DONALD SCHLIEP        281   \n",
       "                                                           MARK COMSTOCK         274   \n",
       "                                                           WRITEIN                 4   \n",
       "\n",
       "                                                                               county_fips   \n",
       "precinct                         office                    candidate                         \n",
       "# AB - CENTRAL ABSENTEE PRECINCT CHAIRMAN - SCHOOL BOARD   ALYSON SATTERWHITE        51153  \\\n",
       "                                                           BABUR LATEEF              51153   \n",
       "                                                           STANLEY BENDER            51153   \n",
       "                                                           WRITEIN                   51153   \n",
       "                                 CLERK OF COURT            CHERYL EDMONDSTON         51029   \n",
       "...                                                                                    ...   \n",
       "ZUMBROTA TWP.                    COUNTY SHERIFF            PAUL GIELAU               27049   \n",
       "                                                           WRITEIN                   27049   \n",
       "                                 SOIL AND WATER SUPERVISOR DONALD SCHLIEP            27049   \n",
       "                                                           MARK COMSTOCK             27049   \n",
       "                                                           WRITEIN                   54098   \n",
       "\n",
       "                                                                               jurisdiction_fips   \n",
       "precinct                         office                    candidate                               \n",
       "# AB - CENTRAL ABSENTEE PRECINCT CHAIRMAN - SCHOOL BOARD   ALYSON SATTERWHITE              51153  \\\n",
       "                                                           BABUR LATEEF                    51153   \n",
       "                                                           STANLEY BENDER                  51153   \n",
       "                                                           WRITEIN                         51153   \n",
       "                                 CLERK OF COURT            CHERYL EDMONDSTON               51029   \n",
       "...                                                                                          ...   \n",
       "ZUMBROTA TWP.                    COUNTY SHERIFF            PAUL GIELAU                     27049   \n",
       "                                                           WRITEIN                         27049   \n",
       "                                 SOIL AND WATER SUPERVISOR DONALD SCHLIEP                  27049   \n",
       "                                                           MARK COMSTOCK                   27049   \n",
       "                                                           WRITEIN                         54098   \n",
       "\n",
       "                                                                               magnitude   \n",
       "precinct                         office                    candidate                       \n",
       "# AB - CENTRAL ABSENTEE PRECINCT CHAIRMAN - SCHOOL BOARD   ALYSON SATTERWHITE        1.0  \\\n",
       "                                                           BABUR LATEEF              1.0   \n",
       "                                                           STANLEY BENDER            1.0   \n",
       "                                                           WRITEIN                   1.0   \n",
       "                                 CLERK OF COURT            CHERYL EDMONDSTON         1.0   \n",
       "...                                                                                  ...   \n",
       "ZUMBROTA TWP.                    COUNTY SHERIFF            PAUL GIELAU               1.0   \n",
       "                                                           WRITEIN                   1.0   \n",
       "                                 SOIL AND WATER SUPERVISOR DONALD SCHLIEP            1.0   \n",
       "                                                           MARK COMSTOCK             1.0   \n",
       "                                                           WRITEIN                   2.0   \n",
       "\n",
       "                                                                               year   \n",
       "precinct                         office                    candidate                  \n",
       "# AB - CENTRAL ABSENTEE PRECINCT CHAIRMAN - SCHOOL BOARD   ALYSON SATTERWHITE  2018  \\\n",
       "                                                           BABUR LATEEF        2018   \n",
       "                                                           STANLEY BENDER      2018   \n",
       "                                                           WRITEIN             2018   \n",
       "                                 CLERK OF COURT            CHERYL EDMONDSTON   2018   \n",
       "...                                                                             ...   \n",
       "ZUMBROTA TWP.                    COUNTY SHERIFF            PAUL GIELAU         2018   \n",
       "                                                           WRITEIN             2018   \n",
       "                                 SOIL AND WATER SUPERVISOR DONALD SCHLIEP      2018   \n",
       "                                                           MARK COMSTOCK       2018   \n",
       "                                                           WRITEIN             4036   \n",
       "\n",
       "                                                                               special   \n",
       "precinct                         office                    candidate                     \n",
       "# AB - CENTRAL ABSENTEE PRECINCT CHAIRMAN - SCHOOL BOARD   ALYSON SATTERWHITE        0  \\\n",
       "                                                           BABUR LATEEF              0   \n",
       "                                                           STANLEY BENDER            0   \n",
       "                                                           WRITEIN                   0   \n",
       "                                 CLERK OF COURT            CHERYL EDMONDSTON         0   \n",
       "...                                                                                ...   \n",
       "ZUMBROTA TWP.                    COUNTY SHERIFF            PAUL GIELAU               0   \n",
       "                                                           WRITEIN                   0   \n",
       "                                 SOIL AND WATER SUPERVISOR DONALD SCHLIEP            0   \n",
       "                                                           MARK COMSTOCK             0   \n",
       "                                                           WRITEIN                   0   \n",
       "\n",
       "                                                                               writein   \n",
       "precinct                         office                    candidate                     \n",
       "# AB - CENTRAL ABSENTEE PRECINCT CHAIRMAN - SCHOOL BOARD   ALYSON SATTERWHITE        0  \\\n",
       "                                                           BABUR LATEEF              0   \n",
       "                                                           STANLEY BENDER            0   \n",
       "                                                           WRITEIN                   1   \n",
       "                                 CLERK OF COURT            CHERYL EDMONDSTON         0   \n",
       "...                                                                                ...   \n",
       "ZUMBROTA TWP.                    COUNTY SHERIFF            PAUL GIELAU               0   \n",
       "                                                           WRITEIN                   1   \n",
       "                                 SOIL AND WATER SUPERVISOR DONALD SCHLIEP            0   \n",
       "                                                           MARK COMSTOCK             0   \n",
       "                                                           WRITEIN                   2   \n",
       "\n",
       "                                                                               state_fips   \n",
       "precinct                         office                    candidate                        \n",
       "# AB - CENTRAL ABSENTEE PRECINCT CHAIRMAN - SCHOOL BOARD   ALYSON SATTERWHITE          51  \\\n",
       "                                                           BABUR LATEEF                51   \n",
       "                                                           STANLEY BENDER              51   \n",
       "                                                           WRITEIN                     51   \n",
       "                                 CLERK OF COURT            CHERYL EDMONDSTON           51   \n",
       "...                                                                                   ...   \n",
       "ZUMBROTA TWP.                    COUNTY SHERIFF            PAUL GIELAU                 27   \n",
       "                                                           WRITEIN                     27   \n",
       "                                 SOIL AND WATER SUPERVISOR DONALD SCHLIEP              27   \n",
       "                                                           MARK COMSTOCK               27   \n",
       "                                                           WRITEIN                     54   \n",
       "\n",
       "                                                                               state_cen   \n",
       "precinct                         office                    candidate                       \n",
       "# AB - CENTRAL ABSENTEE PRECINCT CHAIRMAN - SCHOOL BOARD   ALYSON SATTERWHITE         54  \\\n",
       "                                                           BABUR LATEEF               54   \n",
       "                                                           STANLEY BENDER             54   \n",
       "                                                           WRITEIN                    54   \n",
       "                                 CLERK OF COURT            CHERYL EDMONDSTON          54   \n",
       "...                                                                                  ...   \n",
       "ZUMBROTA TWP.                    COUNTY SHERIFF            PAUL GIELAU                41   \n",
       "                                                           WRITEIN                    41   \n",
       "                                 SOIL AND WATER SUPERVISOR DONALD SCHLIEP             41   \n",
       "                                                           MARK COMSTOCK              41   \n",
       "                                                           WRITEIN                    82   \n",
       "\n",
       "                                                                               state_ic   \n",
       "precinct                         office                    candidate                      \n",
       "# AB - CENTRAL ABSENTEE PRECINCT CHAIRMAN - SCHOOL BOARD   ALYSON SATTERWHITE        40  \\\n",
       "                                                           BABUR LATEEF              40   \n",
       "                                                           STANLEY BENDER            40   \n",
       "                                                           WRITEIN                   40   \n",
       "                                 CLERK OF COURT            CHERYL EDMONDSTON         40   \n",
       "...                                                                                 ...   \n",
       "ZUMBROTA TWP.                    COUNTY SHERIFF            PAUL GIELAU               33   \n",
       "                                                           WRITEIN                   33   \n",
       "                                 SOIL AND WATER SUPERVISOR DONALD SCHLIEP            33   \n",
       "                                                           MARK COMSTOCK             33   \n",
       "                                                           WRITEIN                   66   \n",
       "\n",
       "                                                                               readme_check  \n",
       "precinct                         office                    candidate                         \n",
       "# AB - CENTRAL ABSENTEE PRECINCT CHAIRMAN - SCHOOL BOARD   ALYSON SATTERWHITE             0  \n",
       "                                                           BABUR LATEEF                   0  \n",
       "                                                           STANLEY BENDER                 0  \n",
       "                                                           WRITEIN                        0  \n",
       "                                 CLERK OF COURT            CHERYL EDMONDSTON              0  \n",
       "...                                                                                     ...  \n",
       "ZUMBROTA TWP.                    COUNTY SHERIFF            PAUL GIELAU                    0  \n",
       "                                                           WRITEIN                        0  \n",
       "                                 SOIL AND WATER SUPERVISOR DONALD SCHLIEP                 0  \n",
       "                                                           MARK COMSTOCK                  0  \n",
       "                                                           WRITEIN                        0  \n",
       "\n",
       "[1253424 rows x 11 columns]"
      ]
     },
     "execution_count": 4,
     "metadata": {},
     "output_type": "execute_result"
    }
   ],
   "source": [
    "# pd.MultiIndex.from_product([data[\"precinct\"], data[\"office\"]])\n",
    "data.groupby([\"precinct\", \"office\", \"candidate\"]).sum(\"votes\")"
   ]
  },
  {
   "cell_type": "code",
   "execution_count": 5,
   "metadata": {},
   "outputs": [],
   "source": [
    "def model_A1(voters=None, count_1=None):\n",
    "  p = numpyro.sample(\"p\", dist.Uniform(low=0, high=1))\n",
    "  numpyro.sample(\"obs\", dist.Binomial(total_count=voters, probs=p), obs=count_1)"
   ]
  },
  {
   "cell_type": "code",
   "execution_count": 6,
   "metadata": {},
   "outputs": [
    {
     "name": "stderr",
     "output_type": "stream",
     "text": [
      "sample: 100%|██████████| 3000/3000 [00:02<00:00, 1119.34it/s, 3 steps of size 1.31e+00. acc. prob=0.90]\n"
     ]
    },
    {
     "name": "stdout",
     "output_type": "stream",
     "text": [
      "\n",
      "                mean       std    median      5.0%     95.0%     n_eff     r_hat\n",
      "         p      0.40      0.02      0.40      0.37      0.44    625.38      1.00\n",
      "\n",
      "Number of divergences: 0\n"
     ]
    }
   ],
   "source": [
    "# Start from this source of randomness. We will split keys for subsequent operations.\n",
    "rng_key = random.PRNGKey(0)\n",
    "rng_key, rng_key_ = random.split(rng_key)\n",
    "\n",
    "# Run NUTS.\n",
    "kernel = NUTS(model_A1)\n",
    "num_samples = 2000\n",
    "mcmc = MCMC(kernel, num_warmup=1000, num_samples=num_samples)\n",
    "mcmc.run(\n",
    "    rng_key_, voters = 500, count_1 = 200\n",
    ")\n",
    "mcmc.print_summary()\n",
    "samples_1 = mcmc.get_samples()"
   ]
  },
  {
   "cell_type": "code",
   "execution_count": 7,
   "metadata": {},
   "outputs": [
    {
     "data": {
      "image/png": "[encoded data removed]",
      "text/plain": [
       "<Figure size 640x480 with 1 Axes>"
      ]
     },
     "metadata": {},
     "output_type": "display_data"
    }
   ],
   "source": [
    "posterior_predictive_A1 = Predictive(model_A1, samples_1)\n",
    "posterior_outcomes_A1 = posterior_predictive_A1(rng_key_, voters = 500)[\"obs\"]\n",
    "plt.hist(posterior_outcomes_A1)\n",
    "plt.show()"
   ]
  },
  {
   "cell_type": "code",
   "execution_count": 8,
   "metadata": {},
   "outputs": [],
   "source": [
    "def model_A2(voters=None, count_1=None):\n",
    "  shape_1 = numpyro.sample(\"shape_1\", dist.Exponential(rate=0.1))\n",
    "  shape_2 = numpyro.sample(\"shape_2\", dist.Exponential(rate=0.1))\n",
    "  numpyro.sample(\"obs\", dist.BetaBinomial(shape_1, shape_2, voters), obs=count_1)"
   ]
  },
  {
   "cell_type": "code",
   "execution_count": 9,
   "metadata": {},
   "outputs": [
    {
     "name": "stderr",
     "output_type": "stream",
     "text": [
      "sample: 100%|██████████| 3000/3000 [00:03<00:00, 792.58it/s, 7 steps of size 2.72e-01. acc. prob=0.96]  "
     ]
    },
    {
     "name": "stdout",
     "output_type": "stream",
     "text": [
      "\n",
      "                mean       std    median      5.0%     95.0%     n_eff     r_hat\n",
      "   shape_1      8.55      5.54      7.44      0.95     16.03    523.03      1.01\n",
      "   shape_2     12.29      7.91     10.70      0.96     22.87    558.23      1.01\n",
      "\n",
      "Number of divergences: 0\n"
     ]
    },
    {
     "name": "stderr",
     "output_type": "stream",
     "text": [
      "\n"
     ]
    }
   ],
   "source": [
    "# Start from this source of randomness. We will split keys for subsequent operations.\n",
    "rng_key = random.PRNGKey(0)\n",
    "rng_key, rng_key_ = random.split(rng_key)\n",
    "\n",
    "# Run NUTS.\n",
    "kernel = NUTS(model_A2)\n",
    "num_samples = 2000\n",
    "mcmc = MCMC(kernel, num_warmup=1000, num_samples=num_samples)\n",
    "mcmc.run(\n",
    "    rng_key_, voters = 500, count_1 = 200\n",
    ")\n",
    "mcmc.print_summary()\n",
    "samples_A2 = mcmc.get_samples()"
   ]
  },
  {
   "cell_type": "code",
   "execution_count": 10,
   "metadata": {},
   "outputs": [
    {
     "data": {
      "image/png": "[encoded data removed]",
      "text/plain": [
       "<Figure size 640x480 with 1 Axes>"
      ]
     },
     "metadata": {},
     "output_type": "display_data"
    }
   ],
   "source": [
    "posterior_predictive_A2 = Predictive(model_A2, samples_A2)\n",
    "posterior_outcomes_A2 = posterior_predictive_A2(rng_key_, voters = 500)[\"obs\"]\n",
    "plt.hist(posterior_outcomes_A2)\n",
    "plt.show()"
   ]
  },
  {
   "cell_type": "code",
   "execution_count": 11,
   "metadata": {},
   "outputs": [],
   "source": [
    "outcomes = jnp.concatenate([jnp.ones(200), jnp.zeros(300)])\n",
    "def model_A3(n_voters =None, outcomes = None):\n",
    "  pop_1 = numpyro.sample(\"pop_1\", dist.Beta(2, 2))\n",
    "  p_1 = numpyro.sample(\"p_1\", dist.Uniform(low=0.5, high=1.0))\n",
    "  p_2 = numpyro.sample(\"p_2\", dist.Uniform(low=0.0, high=0.5))\n",
    "  with numpyro.plate(\"data\", n_voters) as ind:\n",
    "    obs = outcomes[ind] if outcomes is not None else None\n",
    "    numpyro.sample(\"outcomes\", dist.MixtureSameFamily(dist.Categorical(jnp.stack([pop_1, 1 - pop_1])), dist.Bernoulli(jnp.stack([p_1, p_2]))), obs = obs)"
   ]
  },
  {
   "cell_type": "code",
   "execution_count": 12,
   "metadata": {},
   "outputs": [
    {
     "name": "stderr",
     "output_type": "stream",
     "text": [
      "sample: 100%|██████████| 6000/6000 [00:07<00:00, 788.66it/s, 19 steps of size 1.58e-01. acc. prob=0.93] \n"
     ]
    },
    {
     "name": "stdout",
     "output_type": "stream",
     "text": [
      "\n",
      "                mean       std    median      5.0%     95.0%     n_eff     r_hat\n",
      "       p_1      0.69      0.14      0.67      0.50      0.90   1943.43      1.00\n",
      "       p_2      0.20      0.11      0.20      0.01      0.35   1831.56      1.00\n",
      "     pop_1      0.41      0.16      0.40      0.15      0.69   1812.86      1.00\n",
      "\n",
      "Number of divergences: 0\n"
     ]
    }
   ],
   "source": [
    "# Start from this source of randomness. We will split keys for subsequent operations.\n",
    "rng_key = random.PRNGKey(0)\n",
    "rng_key, rng_key_ = random.split(rng_key)\n",
    "\n",
    "# Run NUTS.\n",
    "kernel = NUTS(model_A3)\n",
    "num_samples = 5_000\n",
    "mcmc = MCMC(kernel, num_warmup=1000, num_samples=num_samples)\n",
    "mcmc.run(\n",
    "    rng_key_, n_voters = len(outcomes), outcomes = outcomes\n",
    ")\n",
    "mcmc.print_summary()\n",
    "samples_A3 = mcmc.get_samples()"
   ]
  },
  {
   "cell_type": "code",
   "execution_count": 13,
   "metadata": {},
   "outputs": [
    {
     "data": {
      "image/png": "[encoded data removed]",
      "text/plain": [
       "<Figure size 640x480 with 1 Axes>"
      ]
     },
     "metadata": {},
     "output_type": "display_data"
    }
   ],
   "source": [
    "posterior_predictive_A3 = Predictive(model_A3, samples_A3)\n",
    "posterior_samples = posterior_predictive_A3(rng_key_, n_voters = 500)\n",
    "posterior_outcomes_A3 = posterior_samples[\"outcomes\"].sum(axis = 1)\n",
    "sns.histplot(posterior_outcomes_A3)\n",
    "plt.show()"
   ]
  },
  {
   "cell_type": "code",
   "execution_count": 24,
   "metadata": {},
   "outputs": [],
   "source": [
    "outcomes = jnp.stack(\n",
    "    [\n",
    "        jnp.concatenate([jnp.ones(200), jnp.zeros(300)]),\n",
    "        jnp.concatenate([jnp.ones(250), jnp.zeros(250)]),\n",
    "    ], axis = -1\n",
    ")\n",
    "\n",
    "\n",
    "def model_A4(n_voters=None, outcomes=None):\n",
    "    pop_1 = numpyro.sample(\"pop_1\", dist.Beta(2, 2))\n",
    "    p_1 = numpyro.sample(\"p_1\", dist.Uniform(low=jnp.full(2, 0.5), high=jnp.full(2, 1.0)))\n",
    "    p_2 = numpyro.sample(\"p_2\", dist.Uniform(low=jnp.full(2, 0.0), high=jnp.full(2, 0.5)))\n",
    "    with numpyro.plate(\"voter\", n_voters) as ind:\n",
    "        obs = outcomes[ind] if outcomes is not None else None\n",
    "        numpyro.sample(\n",
    "            \"outcomes\",\n",
    "            dist.MixtureSameFamily(\n",
    "                dist.Categorical(jnp.stack([pop_1, 1 - pop_1])),\n",
    "                dist.Bernoulli(jnp.stack([p_1, p_2])),\n",
    "            ),\n",
    "            obs=obs,\n",
    "        )"
   ]
  },
  {
   "cell_type": "code",
   "execution_count": 25,
   "metadata": {},
   "outputs": [
    {
     "ename": "ValueError",
     "evalue": "Incompatible shapes for broadcasting: shapes=[(500,), (2,)]",
     "output_type": "error",
     "traceback": [
      "\u001b[0;31m---------------------------------------------------------------------------\u001b[0m",
      "\u001b[0;31mValueError\u001b[0m                                Traceback (most recent call last)",
      "File \u001b[0;32m~/mambaforge-pypy3/envs/pystats/lib/python3.11/site-packages/jax/_src/lax/lax.py:146\u001b[0m, in \u001b[0;36mbroadcast_shapes\u001b[0;34m(*shapes)\u001b[0m\n\u001b[1;32m    145\u001b[0m \u001b[39mtry\u001b[39;00m:\n\u001b[0;32m--> 146\u001b[0m   \u001b[39mreturn\u001b[39;00m _broadcast_shapes_cached(\u001b[39m*\u001b[39;49mshapes)\n\u001b[1;32m    147\u001b[0m \u001b[39mexcept\u001b[39;00m:\n",
      "File \u001b[0;32m~/mambaforge-pypy3/envs/pystats/lib/python3.11/site-packages/jax/_src/util.py:263\u001b[0m, in \u001b[0;36mcache.<locals>.wrap.<locals>.wrapper\u001b[0;34m(*args, **kwargs)\u001b[0m\n\u001b[1;32m    262\u001b[0m \u001b[39melse\u001b[39;00m:\n\u001b[0;32m--> 263\u001b[0m   \u001b[39mreturn\u001b[39;00m cached(config\u001b[39m.\u001b[39;49mconfig\u001b[39m.\u001b[39;49m_trace_context(), \u001b[39m*\u001b[39;49margs, \u001b[39m*\u001b[39;49m\u001b[39m*\u001b[39;49mkwargs)\n",
      "File \u001b[0;32m~/mambaforge-pypy3/envs/pystats/lib/python3.11/site-packages/jax/_src/util.py:256\u001b[0m, in \u001b[0;36mcache.<locals>.wrap.<locals>.cached\u001b[0;34m(_, *args, **kwargs)\u001b[0m\n\u001b[1;32m    254\u001b[0m \u001b[39m@functools\u001b[39m\u001b[39m.\u001b[39mlru_cache(max_size)\n\u001b[1;32m    255\u001b[0m \u001b[39mdef\u001b[39;00m \u001b[39mcached\u001b[39m(_, \u001b[39m*\u001b[39margs, \u001b[39m*\u001b[39m\u001b[39m*\u001b[39mkwargs):\n\u001b[0;32m--> 256\u001b[0m   \u001b[39mreturn\u001b[39;00m f(\u001b[39m*\u001b[39;49margs, \u001b[39m*\u001b[39;49m\u001b[39m*\u001b[39;49mkwargs)\n",
      "File \u001b[0;32m~/mambaforge-pypy3/envs/pystats/lib/python3.11/site-packages/jax/_src/lax/lax.py:152\u001b[0m, in \u001b[0;36m_broadcast_shapes_cached\u001b[0;34m(*shapes)\u001b[0m\n\u001b[1;32m    150\u001b[0m \u001b[39m@cache\u001b[39m()\n\u001b[1;32m    151\u001b[0m \u001b[39mdef\u001b[39;00m \u001b[39m_broadcast_shapes_cached\u001b[39m(\u001b[39m*\u001b[39mshapes: \u001b[39mtuple\u001b[39m[\u001b[39mint\u001b[39m, \u001b[39m.\u001b[39m\u001b[39m.\u001b[39m\u001b[39m.\u001b[39m]) \u001b[39m-\u001b[39m\u001b[39m>\u001b[39m \u001b[39mtuple\u001b[39m[\u001b[39mint\u001b[39m, \u001b[39m.\u001b[39m\u001b[39m.\u001b[39m\u001b[39m.\u001b[39m]:\n\u001b[0;32m--> 152\u001b[0m   \u001b[39mreturn\u001b[39;00m _broadcast_shapes_uncached(\u001b[39m*\u001b[39;49mshapes)\n",
      "File \u001b[0;32m~/mambaforge-pypy3/envs/pystats/lib/python3.11/site-packages/jax/_src/lax/lax.py:168\u001b[0m, in \u001b[0;36m_broadcast_shapes_uncached\u001b[0;34m(*shapes)\u001b[0m\n\u001b[1;32m    167\u001b[0m \u001b[39mif\u001b[39;00m result_shape \u001b[39mis\u001b[39;00m \u001b[39mNone\u001b[39;00m:\n\u001b[0;32m--> 168\u001b[0m   \u001b[39mraise\u001b[39;00m \u001b[39mValueError\u001b[39;00m(\u001b[39mf\u001b[39m\u001b[39m\"\u001b[39m\u001b[39mIncompatible shapes for broadcasting: shapes=\u001b[39m\u001b[39m{\u001b[39;00m\u001b[39mlist\u001b[39m(shapes)\u001b[39m}\u001b[39;00m\u001b[39m\"\u001b[39m)\n\u001b[1;32m    169\u001b[0m \u001b[39mreturn\u001b[39;00m result_shape\n",
      "\u001b[0;31mValueError\u001b[0m: Incompatible shapes for broadcasting: shapes=[(500,), (2,)]",
      "\nDuring handling of the above exception, another exception occurred:\n",
      "\u001b[0;31mValueError\u001b[0m                                Traceback (most recent call last)",
      "\u001b[1;32m/home/daniel/Documents/vote-counts/src/notebooks/local_results_eda.ipynb Cell 15\u001b[0m line \u001b[0;36m9\n\u001b[1;32m      <a href='vscode-notebook-cell:/home/daniel/Documents/vote-counts/src/notebooks/local_results_eda.ipynb#X20sZmlsZQ%3D%3D?line=6'>7</a>\u001b[0m num_samples \u001b[39m=\u001b[39m \u001b[39m5_000\u001b[39m\n\u001b[1;32m      <a href='vscode-notebook-cell:/home/daniel/Documents/vote-counts/src/notebooks/local_results_eda.ipynb#X20sZmlsZQ%3D%3D?line=7'>8</a>\u001b[0m mcmc \u001b[39m=\u001b[39m MCMC(kernel, num_warmup\u001b[39m=\u001b[39m\u001b[39m1000\u001b[39m, num_samples\u001b[39m=\u001b[39mnum_samples)\n\u001b[0;32m----> <a href='vscode-notebook-cell:/home/daniel/Documents/vote-counts/src/notebooks/local_results_eda.ipynb#X20sZmlsZQ%3D%3D?line=8'>9</a>\u001b[0m mcmc\u001b[39m.\u001b[39;49mrun(\n\u001b[1;32m     <a href='vscode-notebook-cell:/home/daniel/Documents/vote-counts/src/notebooks/local_results_eda.ipynb#X20sZmlsZQ%3D%3D?line=9'>10</a>\u001b[0m     rng_key_, n_voters \u001b[39m=\u001b[39;49m \u001b[39mlen\u001b[39;49m(outcomes), outcomes \u001b[39m=\u001b[39;49m outcomes\n\u001b[1;32m     <a href='vscode-notebook-cell:/home/daniel/Documents/vote-counts/src/notebooks/local_results_eda.ipynb#X20sZmlsZQ%3D%3D?line=10'>11</a>\u001b[0m )\n\u001b[1;32m     <a href='vscode-notebook-cell:/home/daniel/Documents/vote-counts/src/notebooks/local_results_eda.ipynb#X20sZmlsZQ%3D%3D?line=11'>12</a>\u001b[0m mcmc\u001b[39m.\u001b[39mprint_summary()\n\u001b[1;32m     <a href='vscode-notebook-cell:/home/daniel/Documents/vote-counts/src/notebooks/local_results_eda.ipynb#X20sZmlsZQ%3D%3D?line=12'>13</a>\u001b[0m samples_A4 \u001b[39m=\u001b[39m mcmc\u001b[39m.\u001b[39mget_samples()\n",
      "File \u001b[0;32m~/mambaforge-pypy3/envs/pystats/lib/python3.11/site-packages/numpyro/infer/mcmc.py:634\u001b[0m, in \u001b[0;36mMCMC.run\u001b[0;34m(self, rng_key, extra_fields, init_params, *args, **kwargs)\u001b[0m\n\u001b[1;32m    632\u001b[0m map_args \u001b[39m=\u001b[39m (rng_key, init_state, init_params)\n\u001b[1;32m    633\u001b[0m \u001b[39mif\u001b[39;00m \u001b[39mself\u001b[39m\u001b[39m.\u001b[39mnum_chains \u001b[39m==\u001b[39m \u001b[39m1\u001b[39m:\n\u001b[0;32m--> 634\u001b[0m     states_flat, last_state \u001b[39m=\u001b[39m partial_map_fn(map_args)\n\u001b[1;32m    635\u001b[0m     states \u001b[39m=\u001b[39m tree_map(\u001b[39mlambda\u001b[39;00m x: x[jnp\u001b[39m.\u001b[39mnewaxis, \u001b[39m.\u001b[39m\u001b[39m.\u001b[39m\u001b[39m.\u001b[39m], states_flat)\n\u001b[1;32m    636\u001b[0m \u001b[39melse\u001b[39;00m:\n",
      "File \u001b[0;32m~/mambaforge-pypy3/envs/pystats/lib/python3.11/site-packages/numpyro/infer/mcmc.py:416\u001b[0m, in \u001b[0;36mMCMC._single_chain_mcmc\u001b[0;34m(self, init, args, kwargs, collect_fields)\u001b[0m\n\u001b[1;32m    414\u001b[0m \u001b[39m# Check if _sample_fn is None, then we need to initialize the sampler.\u001b[39;00m\n\u001b[1;32m    415\u001b[0m \u001b[39mif\u001b[39;00m init_state \u001b[39mis\u001b[39;00m \u001b[39mNone\u001b[39;00m \u001b[39mor\u001b[39;00m (\u001b[39mgetattr\u001b[39m(\u001b[39mself\u001b[39m\u001b[39m.\u001b[39msampler, \u001b[39m\"\u001b[39m\u001b[39m_sample_fn\u001b[39m\u001b[39m\"\u001b[39m, \u001b[39mNone\u001b[39;00m) \u001b[39mis\u001b[39;00m \u001b[39mNone\u001b[39;00m):\n\u001b[0;32m--> 416\u001b[0m     new_init_state \u001b[39m=\u001b[39m \u001b[39mself\u001b[39;49m\u001b[39m.\u001b[39;49msampler\u001b[39m.\u001b[39;49minit(\n\u001b[1;32m    417\u001b[0m         rng_key,\n\u001b[1;32m    418\u001b[0m         \u001b[39mself\u001b[39;49m\u001b[39m.\u001b[39;49mnum_warmup,\n\u001b[1;32m    419\u001b[0m         init_params,\n\u001b[1;32m    420\u001b[0m         model_args\u001b[39m=\u001b[39;49margs,\n\u001b[1;32m    421\u001b[0m         model_kwargs\u001b[39m=\u001b[39;49mkwargs,\n\u001b[1;32m    422\u001b[0m     )\n\u001b[1;32m    423\u001b[0m     init_state \u001b[39m=\u001b[39m new_init_state \u001b[39mif\u001b[39;00m init_state \u001b[39mis\u001b[39;00m \u001b[39mNone\u001b[39;00m \u001b[39melse\u001b[39;00m init_state\n\u001b[1;32m    424\u001b[0m sample_fn, postprocess_fn \u001b[39m=\u001b[39m \u001b[39mself\u001b[39m\u001b[39m.\u001b[39m_get_cached_fns()\n",
      "File \u001b[0;32m~/mambaforge-pypy3/envs/pystats/lib/python3.11/site-packages/numpyro/infer/hmc.py:713\u001b[0m, in \u001b[0;36mHMC.init\u001b[0;34m(self, rng_key, num_warmup, init_params, model_args, model_kwargs)\u001b[0m\n\u001b[1;32m    708\u001b[0m \u001b[39m# vectorized\u001b[39;00m\n\u001b[1;32m    709\u001b[0m \u001b[39melse\u001b[39;00m:\n\u001b[1;32m    710\u001b[0m     rng_key, rng_key_init_model \u001b[39m=\u001b[39m jnp\u001b[39m.\u001b[39mswapaxes(\n\u001b[1;32m    711\u001b[0m         vmap(random\u001b[39m.\u001b[39msplit)(rng_key), \u001b[39m0\u001b[39m, \u001b[39m1\u001b[39m\n\u001b[1;32m    712\u001b[0m     )\n\u001b[0;32m--> 713\u001b[0m init_params \u001b[39m=\u001b[39m \u001b[39mself\u001b[39;49m\u001b[39m.\u001b[39;49m_init_state(\n\u001b[1;32m    714\u001b[0m     rng_key_init_model, model_args, model_kwargs, init_params\n\u001b[1;32m    715\u001b[0m )\n\u001b[1;32m    716\u001b[0m \u001b[39mif\u001b[39;00m \u001b[39mself\u001b[39m\u001b[39m.\u001b[39m_potential_fn \u001b[39mand\u001b[39;00m init_params \u001b[39mis\u001b[39;00m \u001b[39mNone\u001b[39;00m:\n\u001b[1;32m    717\u001b[0m     \u001b[39mraise\u001b[39;00m \u001b[39mValueError\u001b[39;00m(\n\u001b[1;32m    718\u001b[0m         \u001b[39m\"\u001b[39m\u001b[39mValid value of `init_params` must be provided with\u001b[39m\u001b[39m\"\u001b[39m \u001b[39m\"\u001b[39m\u001b[39m `potential_fn`.\u001b[39m\u001b[39m\"\u001b[39m\n\u001b[1;32m    719\u001b[0m     )\n",
      "File \u001b[0;32m~/mambaforge-pypy3/envs/pystats/lib/python3.11/site-packages/numpyro/infer/hmc.py:657\u001b[0m, in \u001b[0;36mHMC._init_state\u001b[0;34m(self, rng_key, model_args, model_kwargs, init_params)\u001b[0m\n\u001b[1;32m    650\u001b[0m \u001b[39mdef\u001b[39;00m \u001b[39m_init_state\u001b[39m(\u001b[39mself\u001b[39m, rng_key, model_args, model_kwargs, init_params):\n\u001b[1;32m    651\u001b[0m     \u001b[39mif\u001b[39;00m \u001b[39mself\u001b[39m\u001b[39m.\u001b[39m_model \u001b[39mis\u001b[39;00m \u001b[39mnot\u001b[39;00m \u001b[39mNone\u001b[39;00m:\n\u001b[1;32m    652\u001b[0m         (\n\u001b[1;32m    653\u001b[0m             new_init_params,\n\u001b[1;32m    654\u001b[0m             potential_fn,\n\u001b[1;32m    655\u001b[0m             postprocess_fn,\n\u001b[1;32m    656\u001b[0m             model_trace,\n\u001b[0;32m--> 657\u001b[0m         ) \u001b[39m=\u001b[39m initialize_model(\n\u001b[1;32m    658\u001b[0m             rng_key,\n\u001b[1;32m    659\u001b[0m             \u001b[39mself\u001b[39;49m\u001b[39m.\u001b[39;49m_model,\n\u001b[1;32m    660\u001b[0m             dynamic_args\u001b[39m=\u001b[39;49m\u001b[39mTrue\u001b[39;49;00m,\n\u001b[1;32m    661\u001b[0m             init_strategy\u001b[39m=\u001b[39;49m\u001b[39mself\u001b[39;49m\u001b[39m.\u001b[39;49m_init_strategy,\n\u001b[1;32m    662\u001b[0m             model_args\u001b[39m=\u001b[39;49mmodel_args,\n\u001b[1;32m    663\u001b[0m             model_kwargs\u001b[39m=\u001b[39;49mmodel_kwargs,\n\u001b[1;32m    664\u001b[0m             forward_mode_differentiation\u001b[39m=\u001b[39;49m\u001b[39mself\u001b[39;49m\u001b[39m.\u001b[39;49m_forward_mode_differentiation,\n\u001b[1;32m    665\u001b[0m         )\n\u001b[1;32m    666\u001b[0m         \u001b[39mif\u001b[39;00m init_params \u001b[39mis\u001b[39;00m \u001b[39mNone\u001b[39;00m:\n\u001b[1;32m    667\u001b[0m             init_params \u001b[39m=\u001b[39m new_init_params\n",
      "File \u001b[0;32m~/mambaforge-pypy3/envs/pystats/lib/python3.11/site-packages/numpyro/infer/util.py:656\u001b[0m, in \u001b[0;36minitialize_model\u001b[0;34m(rng_key, model, init_strategy, dynamic_args, model_args, model_kwargs, forward_mode_differentiation, validate_grad)\u001b[0m\n\u001b[1;32m    646\u001b[0m model_kwargs \u001b[39m=\u001b[39m {} \u001b[39mif\u001b[39;00m model_kwargs \u001b[39mis\u001b[39;00m \u001b[39mNone\u001b[39;00m \u001b[39melse\u001b[39;00m model_kwargs\n\u001b[1;32m    647\u001b[0m substituted_model \u001b[39m=\u001b[39m substitute(\n\u001b[1;32m    648\u001b[0m     seed(model, rng_key \u001b[39mif\u001b[39;00m is_prng_key(rng_key) \u001b[39melse\u001b[39;00m rng_key[\u001b[39m0\u001b[39m]),\n\u001b[1;32m    649\u001b[0m     substitute_fn\u001b[39m=\u001b[39minit_strategy,\n\u001b[1;32m    650\u001b[0m )\n\u001b[1;32m    651\u001b[0m (\n\u001b[1;32m    652\u001b[0m     inv_transforms,\n\u001b[1;32m    653\u001b[0m     replay_model,\n\u001b[1;32m    654\u001b[0m     has_enumerate_support,\n\u001b[1;32m    655\u001b[0m     model_trace,\n\u001b[0;32m--> 656\u001b[0m ) \u001b[39m=\u001b[39m _get_model_transforms(substituted_model, model_args, model_kwargs)\n\u001b[1;32m    657\u001b[0m \u001b[39m# substitute param sites from model_trace to model so\u001b[39;00m\n\u001b[1;32m    658\u001b[0m \u001b[39m# we don't need to generate again parameters of `numpyro.module`\u001b[39;00m\n\u001b[1;32m    659\u001b[0m model \u001b[39m=\u001b[39m substitute(\n\u001b[1;32m    660\u001b[0m     model,\n\u001b[1;32m    661\u001b[0m     data\u001b[39m=\u001b[39m{\n\u001b[0;32m   (...)\u001b[0m\n\u001b[1;32m    665\u001b[0m     },\n\u001b[1;32m    666\u001b[0m )\n",
      "File \u001b[0;32m~/mambaforge-pypy3/envs/pystats/lib/python3.11/site-packages/numpyro/infer/util.py:450\u001b[0m, in \u001b[0;36m_get_model_transforms\u001b[0;34m(model, model_args, model_kwargs)\u001b[0m\n\u001b[1;32m    448\u001b[0m \u001b[39mdef\u001b[39;00m \u001b[39m_get_model_transforms\u001b[39m(model, model_args\u001b[39m=\u001b[39m(), model_kwargs\u001b[39m=\u001b[39m\u001b[39mNone\u001b[39;00m):\n\u001b[1;32m    449\u001b[0m     model_kwargs \u001b[39m=\u001b[39m {} \u001b[39mif\u001b[39;00m model_kwargs \u001b[39mis\u001b[39;00m \u001b[39mNone\u001b[39;00m \u001b[39melse\u001b[39;00m model_kwargs\n\u001b[0;32m--> 450\u001b[0m     model_trace \u001b[39m=\u001b[39m trace(model)\u001b[39m.\u001b[39;49mget_trace(\u001b[39m*\u001b[39;49mmodel_args, \u001b[39m*\u001b[39;49m\u001b[39m*\u001b[39;49mmodel_kwargs)\n\u001b[1;32m    451\u001b[0m     inv_transforms \u001b[39m=\u001b[39m {}\n\u001b[1;32m    452\u001b[0m     \u001b[39m# model code may need to be replayed in the presence of deterministic sites\u001b[39;00m\n",
      "File \u001b[0;32m~/mambaforge-pypy3/envs/pystats/lib/python3.11/site-packages/numpyro/handlers.py:171\u001b[0m, in \u001b[0;36mtrace.get_trace\u001b[0;34m(self, *args, **kwargs)\u001b[0m\n\u001b[1;32m    163\u001b[0m \u001b[39mdef\u001b[39;00m \u001b[39mget_trace\u001b[39m(\u001b[39mself\u001b[39m, \u001b[39m*\u001b[39margs, \u001b[39m*\u001b[39m\u001b[39m*\u001b[39mkwargs):\n\u001b[1;32m    164\u001b[0m \u001b[39m    \u001b[39m\u001b[39m\"\"\"\u001b[39;00m\n\u001b[1;32m    165\u001b[0m \u001b[39m    Run the wrapped callable and return the recorded trace.\u001b[39;00m\n\u001b[1;32m    166\u001b[0m \n\u001b[0;32m   (...)\u001b[0m\n\u001b[1;32m    169\u001b[0m \u001b[39m    :return: `OrderedDict` containing the execution trace.\u001b[39;00m\n\u001b[1;32m    170\u001b[0m \u001b[39m    \"\"\"\u001b[39;00m\n\u001b[0;32m--> 171\u001b[0m     \u001b[39mself\u001b[39;49m(\u001b[39m*\u001b[39;49margs, \u001b[39m*\u001b[39;49m\u001b[39m*\u001b[39;49mkwargs)\n\u001b[1;32m    172\u001b[0m     \u001b[39mreturn\u001b[39;00m \u001b[39mself\u001b[39m\u001b[39m.\u001b[39mtrace\n",
      "File \u001b[0;32m~/mambaforge-pypy3/envs/pystats/lib/python3.11/site-packages/numpyro/primitives.py:105\u001b[0m, in \u001b[0;36mMessenger.__call__\u001b[0;34m(self, *args, **kwargs)\u001b[0m\n\u001b[1;32m    103\u001b[0m     \u001b[39mreturn\u001b[39;00m \u001b[39mself\u001b[39m\n\u001b[1;32m    104\u001b[0m \u001b[39mwith\u001b[39;00m \u001b[39mself\u001b[39m:\n\u001b[0;32m--> 105\u001b[0m     \u001b[39mreturn\u001b[39;00m \u001b[39mself\u001b[39;49m\u001b[39m.\u001b[39;49mfn(\u001b[39m*\u001b[39;49margs, \u001b[39m*\u001b[39;49m\u001b[39m*\u001b[39;49mkwargs)\n",
      "File \u001b[0;32m~/mambaforge-pypy3/envs/pystats/lib/python3.11/site-packages/numpyro/primitives.py:105\u001b[0m, in \u001b[0;36mMessenger.__call__\u001b[0;34m(self, *args, **kwargs)\u001b[0m\n\u001b[1;32m    103\u001b[0m     \u001b[39mreturn\u001b[39;00m \u001b[39mself\u001b[39m\n\u001b[1;32m    104\u001b[0m \u001b[39mwith\u001b[39;00m \u001b[39mself\u001b[39m:\n\u001b[0;32m--> 105\u001b[0m     \u001b[39mreturn\u001b[39;00m \u001b[39mself\u001b[39;49m\u001b[39m.\u001b[39;49mfn(\u001b[39m*\u001b[39;49margs, \u001b[39m*\u001b[39;49m\u001b[39m*\u001b[39;49mkwargs)\n",
      "File \u001b[0;32m~/mambaforge-pypy3/envs/pystats/lib/python3.11/site-packages/numpyro/primitives.py:105\u001b[0m, in \u001b[0;36mMessenger.__call__\u001b[0;34m(self, *args, **kwargs)\u001b[0m\n\u001b[1;32m    103\u001b[0m     \u001b[39mreturn\u001b[39;00m \u001b[39mself\u001b[39m\n\u001b[1;32m    104\u001b[0m \u001b[39mwith\u001b[39;00m \u001b[39mself\u001b[39m:\n\u001b[0;32m--> 105\u001b[0m     \u001b[39mreturn\u001b[39;00m \u001b[39mself\u001b[39;49m\u001b[39m.\u001b[39;49mfn(\u001b[39m*\u001b[39;49margs, \u001b[39m*\u001b[39;49m\u001b[39m*\u001b[39;49mkwargs)\n",
      "\u001b[1;32m/home/daniel/Documents/vote-counts/src/notebooks/local_results_eda.ipynb Cell 15\u001b[0m line \u001b[0;36m1\n\u001b[1;32m     <a href='vscode-notebook-cell:/home/daniel/Documents/vote-counts/src/notebooks/local_results_eda.ipynb#X20sZmlsZQ%3D%3D?line=12'>13</a>\u001b[0m \u001b[39mwith\u001b[39;00m numpyro\u001b[39m.\u001b[39mplate(\u001b[39m\"\u001b[39m\u001b[39mvoter\u001b[39m\u001b[39m\"\u001b[39m, n_voters) \u001b[39mas\u001b[39;00m ind:\n\u001b[1;32m     <a href='vscode-notebook-cell:/home/daniel/Documents/vote-counts/src/notebooks/local_results_eda.ipynb#X20sZmlsZQ%3D%3D?line=13'>14</a>\u001b[0m     obs \u001b[39m=\u001b[39m outcomes[ind] \u001b[39mif\u001b[39;00m outcomes \u001b[39mis\u001b[39;00m \u001b[39mnot\u001b[39;00m \u001b[39mNone\u001b[39;00m \u001b[39melse\u001b[39;00m \u001b[39mNone\u001b[39;00m\n\u001b[0;32m---> <a href='vscode-notebook-cell:/home/daniel/Documents/vote-counts/src/notebooks/local_results_eda.ipynb#X20sZmlsZQ%3D%3D?line=14'>15</a>\u001b[0m     numpyro\u001b[39m.\u001b[39;49msample(\n\u001b[1;32m     <a href='vscode-notebook-cell:/home/daniel/Documents/vote-counts/src/notebooks/local_results_eda.ipynb#X20sZmlsZQ%3D%3D?line=15'>16</a>\u001b[0m         \u001b[39m\"\u001b[39;49m\u001b[39moutcomes\u001b[39;49m\u001b[39m\"\u001b[39;49m,\n\u001b[1;32m     <a href='vscode-notebook-cell:/home/daniel/Documents/vote-counts/src/notebooks/local_results_eda.ipynb#X20sZmlsZQ%3D%3D?line=16'>17</a>\u001b[0m         dist\u001b[39m.\u001b[39;49mMixtureSameFamily(\n\u001b[1;32m     <a href='vscode-notebook-cell:/home/daniel/Documents/vote-counts/src/notebooks/local_results_eda.ipynb#X20sZmlsZQ%3D%3D?line=17'>18</a>\u001b[0m             dist\u001b[39m.\u001b[39;49mCategorical(jnp\u001b[39m.\u001b[39;49mstack([pop_1, \u001b[39m1\u001b[39;49m \u001b[39m-\u001b[39;49m pop_1])),\n\u001b[1;32m     <a href='vscode-notebook-cell:/home/daniel/Documents/vote-counts/src/notebooks/local_results_eda.ipynb#X20sZmlsZQ%3D%3D?line=18'>19</a>\u001b[0m             dist\u001b[39m.\u001b[39;49mBernoulli(jnp\u001b[39m.\u001b[39;49mstack([p_1, p_2])),\n\u001b[1;32m     <a href='vscode-notebook-cell:/home/daniel/Documents/vote-counts/src/notebooks/local_results_eda.ipynb#X20sZmlsZQ%3D%3D?line=19'>20</a>\u001b[0m         ),\n\u001b[1;32m     <a href='vscode-notebook-cell:/home/daniel/Documents/vote-counts/src/notebooks/local_results_eda.ipynb#X20sZmlsZQ%3D%3D?line=20'>21</a>\u001b[0m         obs\u001b[39m=\u001b[39;49mobs,\n\u001b[1;32m     <a href='vscode-notebook-cell:/home/daniel/Documents/vote-counts/src/notebooks/local_results_eda.ipynb#X20sZmlsZQ%3D%3D?line=21'>22</a>\u001b[0m     )\n",
      "File \u001b[0;32m~/mambaforge-pypy3/envs/pystats/lib/python3.11/site-packages/numpyro/primitives.py:222\u001b[0m, in \u001b[0;36msample\u001b[0;34m(name, fn, obs, rng_key, sample_shape, infer, obs_mask)\u001b[0m\n\u001b[1;32m    207\u001b[0m initial_msg \u001b[39m=\u001b[39m {\n\u001b[1;32m    208\u001b[0m     \u001b[39m\"\u001b[39m\u001b[39mtype\u001b[39m\u001b[39m\"\u001b[39m: \u001b[39m\"\u001b[39m\u001b[39msample\u001b[39m\u001b[39m\"\u001b[39m,\n\u001b[1;32m    209\u001b[0m     \u001b[39m\"\u001b[39m\u001b[39mname\u001b[39m\u001b[39m\"\u001b[39m: name,\n\u001b[0;32m   (...)\u001b[0m\n\u001b[1;32m    218\u001b[0m     \u001b[39m\"\u001b[39m\u001b[39minfer\u001b[39m\u001b[39m\"\u001b[39m: {} \u001b[39mif\u001b[39;00m infer \u001b[39mis\u001b[39;00m \u001b[39mNone\u001b[39;00m \u001b[39melse\u001b[39;00m infer,\n\u001b[1;32m    219\u001b[0m }\n\u001b[1;32m    221\u001b[0m \u001b[39m# ...and use apply_stack to send it to the Messengers\u001b[39;00m\n\u001b[0;32m--> 222\u001b[0m msg \u001b[39m=\u001b[39m apply_stack(initial_msg)\n\u001b[1;32m    223\u001b[0m \u001b[39mreturn\u001b[39;00m msg[\u001b[39m\"\u001b[39m\u001b[39mvalue\u001b[39m\u001b[39m\"\u001b[39m]\n",
      "File \u001b[0;32m~/mambaforge-pypy3/envs/pystats/lib/python3.11/site-packages/numpyro/primitives.py:47\u001b[0m, in \u001b[0;36mapply_stack\u001b[0;34m(msg)\u001b[0m\n\u001b[1;32m     45\u001b[0m pointer \u001b[39m=\u001b[39m \u001b[39m0\u001b[39m\n\u001b[1;32m     46\u001b[0m \u001b[39mfor\u001b[39;00m pointer, handler \u001b[39min\u001b[39;00m \u001b[39menumerate\u001b[39m(\u001b[39mreversed\u001b[39m(_PYRO_STACK)):\n\u001b[0;32m---> 47\u001b[0m     handler\u001b[39m.\u001b[39;49mprocess_message(msg)\n\u001b[1;32m     48\u001b[0m     \u001b[39m# When a Messenger sets the \"stop\" field of a message,\u001b[39;00m\n\u001b[1;32m     49\u001b[0m     \u001b[39m# it prevents any Messengers above it on the stack from being applied.\u001b[39;00m\n\u001b[1;32m     50\u001b[0m     \u001b[39mif\u001b[39;00m msg\u001b[39m.\u001b[39mget(\u001b[39m\"\u001b[39m\u001b[39mstop\u001b[39m\u001b[39m\"\u001b[39m):\n",
      "File \u001b[0;32m~/mambaforge-pypy3/envs/pystats/lib/python3.11/site-packages/numpyro/primitives.py:546\u001b[0m, in \u001b[0;36mplate.process_message\u001b[0;34m(self, msg)\u001b[0m\n\u001b[1;32m    544\u001b[0m overlap_idx \u001b[39m=\u001b[39m \u001b[39mmax\u001b[39m(\u001b[39mlen\u001b[39m(expected_shape) \u001b[39m-\u001b[39m \u001b[39mlen\u001b[39m(dist_batch_shape), \u001b[39m0\u001b[39m)\n\u001b[1;32m    545\u001b[0m trailing_shape \u001b[39m=\u001b[39m expected_shape[overlap_idx:]\n\u001b[0;32m--> 546\u001b[0m broadcast_shape \u001b[39m=\u001b[39m lax\u001b[39m.\u001b[39;49mbroadcast_shapes(\n\u001b[1;32m    547\u001b[0m     trailing_shape, \u001b[39mtuple\u001b[39;49m(dist_batch_shape)\n\u001b[1;32m    548\u001b[0m )\n\u001b[1;32m    549\u001b[0m batch_shape \u001b[39m=\u001b[39m expected_shape[:overlap_idx] \u001b[39m+\u001b[39m broadcast_shape\n\u001b[1;32m    550\u001b[0m msg[\u001b[39m\"\u001b[39m\u001b[39mfn\u001b[39m\u001b[39m\"\u001b[39m] \u001b[39m=\u001b[39m msg[\u001b[39m\"\u001b[39m\u001b[39mfn\u001b[39m\u001b[39m\"\u001b[39m]\u001b[39m.\u001b[39mexpand(batch_shape)\n",
      "File \u001b[0;32m~/mambaforge-pypy3/envs/pystats/lib/python3.11/site-packages/jax/_src/lax/lax.py:148\u001b[0m, in \u001b[0;36mbroadcast_shapes\u001b[0;34m(*shapes)\u001b[0m\n\u001b[1;32m    146\u001b[0m   \u001b[39mreturn\u001b[39;00m _broadcast_shapes_cached(\u001b[39m*\u001b[39mshapes)\n\u001b[1;32m    147\u001b[0m \u001b[39mexcept\u001b[39;00m:\n\u001b[0;32m--> 148\u001b[0m   \u001b[39mreturn\u001b[39;00m _broadcast_shapes_uncached(\u001b[39m*\u001b[39;49mshapes)\n",
      "File \u001b[0;32m~/mambaforge-pypy3/envs/pystats/lib/python3.11/site-packages/jax/_src/lax/lax.py:168\u001b[0m, in \u001b[0;36m_broadcast_shapes_uncached\u001b[0;34m(*shapes)\u001b[0m\n\u001b[1;32m    166\u001b[0m result_shape \u001b[39m=\u001b[39m _try_broadcast_shapes(shape_list)\n\u001b[1;32m    167\u001b[0m \u001b[39mif\u001b[39;00m result_shape \u001b[39mis\u001b[39;00m \u001b[39mNone\u001b[39;00m:\n\u001b[0;32m--> 168\u001b[0m   \u001b[39mraise\u001b[39;00m \u001b[39mValueError\u001b[39;00m(\u001b[39mf\u001b[39m\u001b[39m\"\u001b[39m\u001b[39mIncompatible shapes for broadcasting: shapes=\u001b[39m\u001b[39m{\u001b[39;00m\u001b[39mlist\u001b[39m(shapes)\u001b[39m}\u001b[39;00m\u001b[39m\"\u001b[39m)\n\u001b[1;32m    169\u001b[0m \u001b[39mreturn\u001b[39;00m result_shape\n",
      "\u001b[0;31mValueError\u001b[0m: Incompatible shapes for broadcasting: shapes=[(500,), (2,)]"
     ]
    }
   ],
   "source": [
    "# Start from this source of randomness. We will split keys for subsequent operations.\n",
    "rng_key = random.PRNGKey(0)\n",
    "rng_key, rng_key_ = random.split(rng_key)\n",
    "\n",
    "# Run NUTS.\n",
    "kernel = NUTS(model_A4)\n",
    "num_samples = 2_000\n",
    "mcmc = MCMC(kernel, num_warmup=1000, num_samples=num_samples)\n",
    "mcmc.run(\n",
    "    rng_key_, n_voters = len(outcomes), outcomes = outcomes\n",
    ")\n",
    "mcmc.print_summary()\n",
    "samples_A4 = mcmc.get_samples()"
   ]
  },
  {
   "cell_type": "code",
   "execution_count": null,
   "metadata": {},
   "outputs": [],
   "source": []
  },
  {
   "cell_type": "code",
   "execution_count": null,
   "metadata": {},
   "outputs": [],
   "source": []
  }
 ],
 "metadata": {
  "kernelspec": {
   "display_name": "pystats",
   "language": "python",
   "name": "python3"
  },
  "language_info": {
   "codemirror_mode": {
    "name": "ipython",
    "version": 3
   },
   "file_extension": ".py",
   "mimetype": "text/x-python",
   "name": "python",
   "nbconvert_exporter": "python",
   "pygments_lexer": "ipython3",
   "version": "3.11.3"
  }
 },
 "nbformat": 4,
 "nbformat_minor": 2
}
